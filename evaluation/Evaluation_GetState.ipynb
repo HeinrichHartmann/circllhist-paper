{
 "cells": [
  {
   "cell_type": "code",
   "execution_count": 1,
   "metadata": {},
   "outputs": [],
   "source": [
    "%run preamble.py\n",
    "%matplotlib inline\n",
    "\n",
    "!mkdir -p images tables results\n",
    "\n",
    "from IPython.display import HTML"
   ]
  },
  {
   "cell_type": "code",
   "execution_count": 2,
   "metadata": {},
   "outputs": [],
   "source": [
    "#\n",
    "# /getStats Dataset\n",
    "#\n",
    "DS_NAME=\"API Latencies\"\n",
    "FILENAME=\"datasets/{}-{}.npy\".format(6 * 7 * 24, 60 * 10)\n",
    "DS_DATA = np.load(FILENAME, allow_pickle=True)\n",
    "DS_QUANTILES = [0, .25, 0.5, 0.75, .9, .95, .99, .995, .999, .9999, .99999, 1 ]"
   ]
  },
  {
   "cell_type": "code",
   "execution_count": 3,
   "metadata": {},
   "outputs": [
    {
     "data": {
      "image/png": "[encoded data removed]",
      "text/plain": [
       "<Figure size 1440x360 with 1 Axes>"
      ]
     },
     "metadata": {
      "needs_background": "light"
     },
     "output_type": "display_data"
    }
   ],
   "source": [
    "total = np.concatenate(DS_DATA)\n",
    "ax = log_plot(total, [])\n",
    "plt.savefig(\"images/\" + DS_NAME + \"_distribution\")"
   ]
  },
  {
   "cell_type": "code",
   "execution_count": 4,
   "metadata": {},
   "outputs": [
    {
     "name": "stdout",
     "output_type": "stream",
     "text": [
      "# exact\n",
      "Insert ..............................................................................................................................................................................................................................................................................................................................................................................................................................................................................................................................................................................................................................................................................................................................................................................................................................................................................................................................................................................................................................\n",
      "Merge ...\n",
      "Quantiles ...\n",
      "# tdigest\n",
      "Insert ..............................................................................................................................................................................................................................................................................................................................................................................................................................................................................................................................................................................................................................................................................................................................................................................................................................................................................................................................................................................................................................\n",
      "Merge ...\n",
      "Quantiles ...\n",
      "# hdr\n",
      "Insert ..............................................................................................................................................................................................................................................................................................................................................................................................................................................................................................................................................................................................................................................................................................................................................................................................................................................................................................................................................................................................................................\n",
      "Merge ...\n",
      "Quantiles ...\n",
      "# dd\n",
      "Insert ..............................................................................................................................................................................................................................................................................................................................................................................................................................................................................................................................................................................................................................................................................................................................................................................................................................................................................................................................................................................................................................\n",
      "Merge ...\n",
      "Quantiles ...\n",
      "# circllhist\n",
      "Insert ..............................................................................................................................................................................................................................................................................................................................................................................................................................................................................................................................................................................................................................................................................................................................................................................................................................................................................................................................................................................................................................\n",
      "Merge ...\n",
      "Quantiles ...\n"
     ]
    }
   ],
   "source": [
    "STATS = evaluate_all(DS_DATA, DS_QUANTILES)"
   ]
  },
  {
   "cell_type": "code",
   "execution_count": 5,
   "metadata": {},
   "outputs": [],
   "source": [
    "save(json.dumps(STATS), \"results/\" + DS_NAME + \".json\")"
   ]
  },
  {
   "cell_type": "code",
   "execution_count": 6,
   "metadata": {},
   "outputs": [
    {
     "data": {
      "image/png": "[encoded data removed]",
      "text/plain": [
       "<Figure size 1440x360 with 1 Axes>"
      ]
     },
     "metadata": {
      "needs_background": "light"
     },
     "output_type": "display_data"
    }
   ],
   "source": [
    "log_plot(total, [STATS[\"exact\"][\"quantiles\"][q] for q in DS_QUANTILES ])\n",
    "plt.savefig(\"images/\" + DS_NAME + \"_distribution_percentiles\")"
   ]
  },
  {
   "cell_type": "code",
   "execution_count": 7,
   "metadata": {},
   "outputs": [
    {
     "data": {
      "image/png": "[encoded data removed]",
      "text/plain": [
       "<Figure size 720x288 with 1 Axes>"
      ]
     },
     "metadata": {
      "needs_background": "light"
     },
     "output_type": "display_data"
    }
   ],
   "source": [
    "#\n",
    "# Stats: Quantiles\n",
    "#\n",
    "df = stats_quantiles(STATS)[METHODS]\n",
    "\n",
    "save(df.to_latex(), \"tables/\" + DS_NAME + \"_quantiles.tex\")\n",
    "\n",
    "plt.figure(figsize=(10,4))\n",
    "plt.title(DS_NAME + \" / Quantile Functions\")\n",
    "for name in METHODS:\n",
    "    plt.plot(DS_QUANTILES, [ STATS[name][\"quantiles\"][q] for q in DS_QUANTILES ] ,\".-\")\n",
    "\n",
    "plt.legend(METHODS)\n",
    "plt.savefig(\"images/\" + DS_NAME + \"_quantile_comparison\")"
   ]
  },
  {
   "cell_type": "code",
   "execution_count": 8,
   "metadata": {},
   "outputs": [
    {
     "data": {
      "text/html": [
       "<div>\n",
       "<style scoped>\n",
       "    .dataframe tbody tr th:only-of-type {\n",
       "        vertical-align: middle;\n",
       "    }\n",
       "\n",
       "    .dataframe tbody tr th {\n",
       "        vertical-align: top;\n",
       "    }\n",
       "\n",
       "    .dataframe thead th {\n",
       "        text-align: right;\n",
       "    }\n",
       "</style>\n",
       "<table border=\"1\" class=\"dataframe\">\n",
       "  <thead>\n",
       "    <tr style=\"text-align: right;\">\n",
       "      <th></th>\n",
       "      <th>exact</th>\n",
       "      <th>tdigest</th>\n",
       "      <th>hdr</th>\n",
       "      <th>dd</th>\n",
       "      <th>circllhist</th>\n",
       "    </tr>\n",
       "  </thead>\n",
       "  <tbody>\n",
       "    <tr>\n",
       "      <th>q0</th>\n",
       "      <td>0.290775</td>\n",
       "      <td>0.290775</td>\n",
       "      <td>0.290</td>\n",
       "      <td>0.290775</td>\n",
       "      <td>0.290385</td>\n",
       "    </tr>\n",
       "    <tr>\n",
       "      <th>q.25</th>\n",
       "      <td>17.911811</td>\n",
       "      <td>17.950573</td>\n",
       "      <td>17.919</td>\n",
       "      <td>17.994143</td>\n",
       "      <td>17.911775</td>\n",
       "    </tr>\n",
       "    <tr>\n",
       "      <th>q.5</th>\n",
       "      <td>24.914646</td>\n",
       "      <td>24.914638</td>\n",
       "      <td>24.927</td>\n",
       "      <td>24.780499</td>\n",
       "      <td>24.915317</td>\n",
       "    </tr>\n",
       "    <tr>\n",
       "      <th>q.75</th>\n",
       "      <td>34.875410</td>\n",
       "      <td>34.892596</td>\n",
       "      <td>34.879</td>\n",
       "      <td>34.815697</td>\n",
       "      <td>34.875685</td>\n",
       "    </tr>\n",
       "    <tr>\n",
       "      <th>q.9</th>\n",
       "      <td>404.770819</td>\n",
       "      <td>410.364935</td>\n",
       "      <td>404.991</td>\n",
       "      <td>407.544587</td>\n",
       "      <td>404.748022</td>\n",
       "    </tr>\n",
       "    <tr>\n",
       "      <th>q.95</th>\n",
       "      <td>2670.851152</td>\n",
       "      <td>2695.063664</td>\n",
       "      <td>2672.639</td>\n",
       "      <td>2671.012821</td>\n",
       "      <td>2670.348510</td>\n",
       "    </tr>\n",
       "    <tr>\n",
       "      <th>q.99</th>\n",
       "      <td>10600.161716</td>\n",
       "      <td>10593.161512</td>\n",
       "      <td>10600.447</td>\n",
       "      <td>10617.501634</td>\n",
       "      <td>10611.333061</td>\n",
       "    </tr>\n",
       "    <tr>\n",
       "      <th>q.995</th>\n",
       "      <td>10788.963851</td>\n",
       "      <td>10786.155686</td>\n",
       "      <td>10797.055</td>\n",
       "      <td>10831.996616</td>\n",
       "      <td>10805.658190</td>\n",
       "    </tr>\n",
       "    <tr>\n",
       "      <th>q.999</th>\n",
       "      <td>10939.060919</td>\n",
       "      <td>10935.791336</td>\n",
       "      <td>10944.511</td>\n",
       "      <td>10831.996616</td>\n",
       "      <td>10961.124966</td>\n",
       "    </tr>\n",
       "    <tr>\n",
       "      <th>q.9999</th>\n",
       "      <td>10972.372995</td>\n",
       "      <td>10971.552113</td>\n",
       "      <td>10977.279</td>\n",
       "      <td>11050.824831</td>\n",
       "      <td>10996.104990</td>\n",
       "    </tr>\n",
       "    <tr>\n",
       "      <th>q.99999</th>\n",
       "      <td>10975.841546</td>\n",
       "      <td>10975.483685</td>\n",
       "      <td>10977.279</td>\n",
       "      <td>11050.824831</td>\n",
       "      <td>10999.599656</td>\n",
       "    </tr>\n",
       "    <tr>\n",
       "      <th>q1</th>\n",
       "      <td>10976.190473</td>\n",
       "      <td>10976.190473</td>\n",
       "      <td>10977.279</td>\n",
       "      <td>10976.190473</td>\n",
       "      <td>10999.991660</td>\n",
       "    </tr>\n",
       "  </tbody>\n",
       "</table>\n",
       "</div>"
      ],
      "text/plain": [
       "                exact       tdigest        hdr            dd    circllhist\n",
       "q0           0.290775      0.290775      0.290      0.290775      0.290385\n",
       "q.25        17.911811     17.950573     17.919     17.994143     17.911775\n",
       "q.5         24.914646     24.914638     24.927     24.780499     24.915317\n",
       "q.75        34.875410     34.892596     34.879     34.815697     34.875685\n",
       "q.9        404.770819    410.364935    404.991    407.544587    404.748022\n",
       "q.95      2670.851152   2695.063664   2672.639   2671.012821   2670.348510\n",
       "q.99     10600.161716  10593.161512  10600.447  10617.501634  10611.333061\n",
       "q.995    10788.963851  10786.155686  10797.055  10831.996616  10805.658190\n",
       "q.999    10939.060919  10935.791336  10944.511  10831.996616  10961.124966\n",
       "q.9999   10972.372995  10971.552113  10977.279  11050.824831  10996.104990\n",
       "q.99999  10975.841546  10975.483685  10977.279  11050.824831  10999.599656\n",
       "q1       10976.190473  10976.190473  10977.279  10976.190473  10999.991660"
      ]
     },
     "execution_count": 8,
     "metadata": {},
     "output_type": "execute_result"
    }
   ],
   "source": [
    "df"
   ]
  },
  {
   "cell_type": "code",
   "execution_count": 9,
   "metadata": {},
   "outputs": [
    {
     "data": {
      "image/png": "[encoded data removed]",
      "text/plain": [
       "<Figure size 240x288 with 1 Axes>"
      ]
     },
     "metadata": {
      "needs_background": "light"
     },
     "output_type": "display_data"
    }
   ],
   "source": [
    "#\n",
    "# Stats: Size\n",
    "#\n",
    "df = stats_size(STATS)[METHODS]\n",
    "\n",
    "save(df.to_latex(), \"tables/\" + DS_NAME + \"_size.tex\")\n",
    "\n",
    "fig = plt.figure(figsize=(10/3,4))\n",
    "ax = plt.subplot(1,1,1)\n",
    "df.plot(kind=\"bar\", ax=ax)\n",
    "plt.yscale(\"log\")\n",
    "plt.title(DS_NAME + \" / Size Comparison\")\n",
    "plt.savefig(\"images/\" + DS_NAME + \"_size\")"
   ]
  },
  {
   "cell_type": "code",
   "execution_count": 10,
   "metadata": {},
   "outputs": [
    {
     "data": {
      "image/png": "[encoded data removed]",
      "text/plain": [
       "<Figure size 720x288 with 1 Axes>"
      ]
     },
     "metadata": {
      "needs_background": "light"
     },
     "output_type": "display_data"
    }
   ],
   "source": [
    "#\n",
    "# Stast: Timing\n",
    "#\n",
    "df = stats_timing(STATS)[METHODS]\n",
    "\n",
    "save(df.to_latex(), \"tables/\" + DS_NAME + \"_perf.tex\")\n",
    "\n",
    "fig = plt.figure(figsize=(10, 4))\n",
    "ax = plt.subplot(1,1,1)\n",
    "df.plot(kind=\"bar\", ax=ax)\n",
    "plt.yscale(\"log\")\n",
    "plt.title(DS_NAME + \" / Performance Comparison\")\n",
    "plt.savefig(\"images/\" + DS_NAME + \"_perf\")"
   ]
  },
  {
   "cell_type": "code",
   "execution_count": 11,
   "metadata": {},
   "outputs": [
    {
     "data": {
      "text/html": [
       "<div>\n",
       "<style scoped>\n",
       "    .dataframe tbody tr th:only-of-type {\n",
       "        vertical-align: middle;\n",
       "    }\n",
       "\n",
       "    .dataframe tbody tr th {\n",
       "        vertical-align: top;\n",
       "    }\n",
       "\n",
       "    .dataframe thead th {\n",
       "        text-align: right;\n",
       "    }\n",
       "</style>\n",
       "<table border=\"1\" class=\"dataframe\">\n",
       "  <thead>\n",
       "    <tr style=\"text-align: right;\">\n",
       "      <th></th>\n",
       "      <th>exact</th>\n",
       "      <th>tdigest</th>\n",
       "      <th>hdr</th>\n",
       "      <th>dd</th>\n",
       "      <th>circllhist</th>\n",
       "    </tr>\n",
       "  </thead>\n",
       "  <tbody>\n",
       "    <tr>\n",
       "      <th>insert</th>\n",
       "      <td>0.098752</td>\n",
       "      <td>9.096915</td>\n",
       "      <td>17.924451</td>\n",
       "      <td>14.212655</td>\n",
       "      <td>4.611953</td>\n",
       "    </tr>\n",
       "    <tr>\n",
       "      <th>merge</th>\n",
       "      <td>3.423716</td>\n",
       "      <td>0.023258</td>\n",
       "      <td>0.130884</td>\n",
       "      <td>0.098603</td>\n",
       "      <td>0.015855</td>\n",
       "    </tr>\n",
       "    <tr>\n",
       "      <th>quantiles</th>\n",
       "      <td>1.017010</td>\n",
       "      <td>0.000013</td>\n",
       "      <td>0.053731</td>\n",
       "      <td>0.000518</td>\n",
       "      <td>0.000072</td>\n",
       "    </tr>\n",
       "  </tbody>\n",
       "</table>\n",
       "</div>"
      ],
      "text/plain": [
       "              exact   tdigest        hdr         dd  circllhist\n",
       "insert     0.098752  9.096915  17.924451  14.212655    4.611953\n",
       "merge      3.423716  0.023258   0.130884   0.098603    0.015855\n",
       "quantiles  1.017010  0.000013   0.053731   0.000518    0.000072"
      ]
     },
     "execution_count": 11,
     "metadata": {},
     "output_type": "execute_result"
    }
   ],
   "source": [
    "df"
   ]
  },
  {
   "cell_type": "code",
   "execution_count": 12,
   "metadata": {},
   "outputs": [
    {
     "data": {
      "image/png": "[encoded data removed]",
      "text/plain": [
       "<Figure size 1080x288 with 1 Axes>"
      ]
     },
     "metadata": {
      "needs_background": "light"
     },
     "output_type": "display_data"
    }
   ],
   "source": [
    "#\n",
    "# Stats: Accuracy\n",
    "#\n",
    "df = stats_qerr(STATS)[METHODS]\n",
    "\n",
    "save(df.to_latex(), \"tables/\" + DS_NAME + \"_accuracy.tex\")\n",
    "\n",
    "fig = plt.figure(figsize=(15, 4))\n",
    "ax = plt.subplot(1,1,1)\n",
    "df.plot(kind=\"bar\", ax=ax)\n",
    "plt.yscale(\"linear\")\n",
    "plt.ylim(0, 5)\n",
    "plt.title(DS_NAME + \" / Accuracy Comparison\")\n",
    "plt.savefig(\"images/\" + DS_NAME + \"_accuracy\")"
   ]
  },
  {
   "cell_type": "code",
   "execution_count": 13,
   "metadata": {},
   "outputs": [
    {
     "data": {
      "text/html": [
       "<div>\n",
       "<style scoped>\n",
       "    .dataframe tbody tr th:only-of-type {\n",
       "        vertical-align: middle;\n",
       "    }\n",
       "\n",
       "    .dataframe tbody tr th {\n",
       "        vertical-align: top;\n",
       "    }\n",
       "\n",
       "    .dataframe thead th {\n",
       "        text-align: right;\n",
       "    }\n",
       "</style>\n",
       "<table border=\"1\" class=\"dataframe\">\n",
       "  <thead>\n",
       "    <tr style=\"text-align: right;\">\n",
       "      <th></th>\n",
       "      <th>exact</th>\n",
       "      <th>tdigest</th>\n",
       "      <th>hdr</th>\n",
       "      <th>dd</th>\n",
       "      <th>circllhist</th>\n",
       "    </tr>\n",
       "  </thead>\n",
       "  <tbody>\n",
       "    <tr>\n",
       "      <th>q0-err%</th>\n",
       "      <td>0.0</td>\n",
       "      <td>0.000000</td>\n",
       "      <td>0.266603</td>\n",
       "      <td>0.000000</td>\n",
       "      <td>0.134331</td>\n",
       "    </tr>\n",
       "    <tr>\n",
       "      <th>q.25-err%</th>\n",
       "      <td>0.0</td>\n",
       "      <td>0.216407</td>\n",
       "      <td>0.040137</td>\n",
       "      <td>0.459655</td>\n",
       "      <td>0.000199</td>\n",
       "    </tr>\n",
       "    <tr>\n",
       "      <th>q.5-err%</th>\n",
       "      <td>0.0</td>\n",
       "      <td>0.000031</td>\n",
       "      <td>0.049586</td>\n",
       "      <td>0.538426</td>\n",
       "      <td>0.002692</td>\n",
       "    </tr>\n",
       "    <tr>\n",
       "      <th>q.75-err%</th>\n",
       "      <td>0.0</td>\n",
       "      <td>0.049279</td>\n",
       "      <td>0.010294</td>\n",
       "      <td>0.171219</td>\n",
       "      <td>0.000788</td>\n",
       "    </tr>\n",
       "    <tr>\n",
       "      <th>q.9-err%</th>\n",
       "      <td>0.0</td>\n",
       "      <td>1.382045</td>\n",
       "      <td>0.054396</td>\n",
       "      <td>0.685269</td>\n",
       "      <td>0.005632</td>\n",
       "    </tr>\n",
       "    <tr>\n",
       "      <th>q.95-err%</th>\n",
       "      <td>0.0</td>\n",
       "      <td>0.906547</td>\n",
       "      <td>0.066939</td>\n",
       "      <td>0.006053</td>\n",
       "      <td>0.018820</td>\n",
       "    </tr>\n",
       "    <tr>\n",
       "      <th>q.99-err%</th>\n",
       "      <td>0.0</td>\n",
       "      <td>0.066039</td>\n",
       "      <td>0.002691</td>\n",
       "      <td>0.163582</td>\n",
       "      <td>0.105388</td>\n",
       "    </tr>\n",
       "    <tr>\n",
       "      <th>q.995-err%</th>\n",
       "      <td>0.0</td>\n",
       "      <td>0.026028</td>\n",
       "      <td>0.074995</td>\n",
       "      <td>0.398859</td>\n",
       "      <td>0.154735</td>\n",
       "    </tr>\n",
       "    <tr>\n",
       "      <th>q.999-err%</th>\n",
       "      <td>0.0</td>\n",
       "      <td>0.029889</td>\n",
       "      <td>0.049822</td>\n",
       "      <td>0.978734</td>\n",
       "      <td>0.201700</td>\n",
       "    </tr>\n",
       "    <tr>\n",
       "      <th>q.9999-err%</th>\n",
       "      <td>0.0</td>\n",
       "      <td>0.007481</td>\n",
       "      <td>0.044712</td>\n",
       "      <td>0.714994</td>\n",
       "      <td>0.216289</td>\n",
       "    </tr>\n",
       "    <tr>\n",
       "      <th>q.99999-err%</th>\n",
       "      <td>0.0</td>\n",
       "      <td>0.003260</td>\n",
       "      <td>0.013097</td>\n",
       "      <td>0.683167</td>\n",
       "      <td>0.216458</td>\n",
       "    </tr>\n",
       "    <tr>\n",
       "      <th>q1-err%</th>\n",
       "      <td>0.0</td>\n",
       "      <td>0.000000</td>\n",
       "      <td>0.009917</td>\n",
       "      <td>0.000000</td>\n",
       "      <td>0.216844</td>\n",
       "    </tr>\n",
       "  </tbody>\n",
       "</table>\n",
       "</div>"
      ],
      "text/plain": [
       "              exact   tdigest       hdr        dd  circllhist\n",
       "q0-err%         0.0  0.000000  0.266603  0.000000    0.134331\n",
       "q.25-err%       0.0  0.216407  0.040137  0.459655    0.000199\n",
       "q.5-err%        0.0  0.000031  0.049586  0.538426    0.002692\n",
       "q.75-err%       0.0  0.049279  0.010294  0.171219    0.000788\n",
       "q.9-err%        0.0  1.382045  0.054396  0.685269    0.005632\n",
       "q.95-err%       0.0  0.906547  0.066939  0.006053    0.018820\n",
       "q.99-err%       0.0  0.066039  0.002691  0.163582    0.105388\n",
       "q.995-err%      0.0  0.026028  0.074995  0.398859    0.154735\n",
       "q.999-err%      0.0  0.029889  0.049822  0.978734    0.201700\n",
       "q.9999-err%     0.0  0.007481  0.044712  0.714994    0.216289\n",
       "q.99999-err%    0.0  0.003260  0.013097  0.683167    0.216458\n",
       "q1-err%         0.0  0.000000  0.009917  0.000000    0.216844"
      ]
     },
     "execution_count": 13,
     "metadata": {},
     "output_type": "execute_result"
    }
   ],
   "source": [
    "df"
   ]
  }
 ],
 "metadata": {
  "kernelspec": {
   "display_name": "Python 3",
   "language": "python",
   "name": "python3"
  },
  "language_info": {
   "codemirror_mode": {
    "name": "ipython",
    "version": 3
   },
   "file_extension": ".py",
   "mimetype": "text/x-python",
   "name": "python",
   "nbconvert_exporter": "python",
   "pygments_lexer": "ipython3",
   "version": "3.7.3"
  }
 },
 "nbformat": 4,
 "nbformat_minor": 4
}
