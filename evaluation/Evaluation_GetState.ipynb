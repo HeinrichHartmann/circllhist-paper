{
 "cells": [
  {
   "cell_type": "code",
   "execution_count": null,
   "metadata": {},
   "outputs": [],
   "source": [
    "%run preamble_2.py\n",
    "%matplotlib inline\n",
    "\n",
    "!mkdir -p images tables results\n",
    "\n",
    "from IPython.display import HTML"
   ]
  },
  {
   "cell_type": "code",
   "execution_count": null,
   "metadata": {},
   "outputs": [],
   "source": [
    "#\n",
    "# /getStats Dataset\n",
    "#\n",
    "DS_NAME=\"API Latencies\"\n",
    "FILENAME=\"datasets/{}-{}.npy\".format(6 * 7 * 24, 60 * 10)\n",
    "DS_DATA = np.load(FILENAME, allow_pickle=True)\n",
    "DS_QUANTILES = [0, .25, 0.5, 0.75, .9, .95, .99, .995, .999, .9999, .99999, 1 ]"
   ]
  },
  {
   "cell_type": "code",
   "execution_count": 3,
   "metadata": {},
   "outputs": [
    {
     "data": {
      "image/png": "[encoded data removed]",
      "text/plain": [
       "<Figure size 1440x360 with 1 Axes>"
      ]
     },
     "metadata": {
      "needs_background": "light"
     },
     "output_type": "display_data"
    }
   ],
   "source": [
    "total = np.concatenate(DS_DATA)\n",
    "ax = log_plot(total, [])\n",
    "plt.savefig(\"images/\" + DS_NAME + \"_distribution\")"
   ]
  },
  {
   "cell_type": "code",
   "execution_count": 4,
   "metadata": {},
   "outputs": [],
   "source": [
    "CLASSES[6].thresholds = np.array([ 0, 1, 10, 100, 500, 1000, 2000, 5000, 8000, 9000, 10000, 15000 ])\n",
    "\n",
    "METHODS_SEL = [\n",
    " 'exact',\n",
    " 'prom',\n",
    " 'hdr',\n",
    " 'tdigest',\n",
    " 'dd',\n",
    " 'circllhist/type-7',\n",
    "]"
   ]
  },
  {
   "cell_type": "code",
   "execution_count": 5,
   "metadata": {},
   "outputs": [
    {
     "name": "stdout",
     "output_type": "stream",
     "text": [
      "# exact\n",
      "Insert ..............................................................................................................................................................................................................................................................................................................................................................................................................................................................................................................................................................................................................................................................................................................................................................................................................................................................................................................................................................................................................................\n",
      "Merge ...\n",
      "Quantiles ...\n",
      "# tdigest\n",
      "Insert ..............................................................................................................................................................................................................................................................................................................................................................................................................................................................................................................................................................................................................................................................................................................................................................................................................................................................................................................................................................................................................................\n",
      "Merge ...\n",
      "Quantiles ...\n",
      "# hdr\n",
      "Insert ..............................................................................................................................................................................................................................................................................................................................................................................................................................................................................................................................................................................................................................................................................................................................................................................................................................................................................................................................................................................................................................\n",
      "Merge ...\n",
      "Quantiles ...\n",
      "# dd\n",
      "Insert ..............................................................................................................................................................................................................................................................................................................................................................................................................................................................................................................................................................................................................................................................................................................................................................................................................................................................................................................................................................................................................................\n",
      "Merge ...\n",
      "Quantiles ...\n",
      "# circllhist/type-1\n",
      "Insert ..............................................................................................................................................................................................................................................................................................................................................................................................................................................................................................................................................................................................................................................................................................................................................................................................................................................................................................................................................................................................................................\n",
      "Merge ...\n",
      "Quantiles ...\n",
      "# circllhist/type-7\n",
      "Insert ..............................................................................................................................................................................................................................................................................................................................................................................................................................................................................................................................................................................................................................................................................................................................................................................................................................................................................................................................................................................................................................\n",
      "Merge ...\n",
      "Quantiles ...\n",
      "# prom\n",
      "Insert ..............................................................................................................................................................................................................................................................................................................................................................................................................................................................................................................................................................................................................................................................................................................................................................................................................................................................................................................................................................................................................................\n",
      "Merge ...\n",
      "Quantiles ...\n"
     ]
    }
   ],
   "source": [
    "STATS = evaluate_all(DS_DATA, DS_QUANTILES)"
   ]
  },
  {
   "cell_type": "code",
   "execution_count": 6,
   "metadata": {},
   "outputs": [
    {
     "name": "stdout",
     "output_type": "stream",
     "text": [
      "# prom\n",
      "Insert ..............................................................................................................................................................................................................................................................................................................................................................................................................................................................................................................................................................................................................................................................................................................................................................................................................................................................................................................................................................................................................................\n",
      "Merge ...\n",
      "Quantiles ...\n"
     ]
    }
   ],
   "source": [
    "# Set prom thresholds\n",
    "# CLASSES[6].thresholds = 10**np.linspace(0, 5, 100)\n",
    "CLASSES[6].thresholds = np.array([ 0, 1, 10, 100, 500, 1000, 2000, 5000, 8000, 9000, 10000 ])\n",
    "reevaluate(STATS, \"prom\", DS_DATA, DS_QUANTILES)"
   ]
  },
  {
   "cell_type": "code",
   "execution_count": 24,
   "metadata": {},
   "outputs": [
    {
     "name": "stdout",
     "output_type": "stream",
     "text": [
      "# hdr\n",
      "Insert ..............................................................................................................................................................................................................................................................................................................................................................................................................................................................................................................................................................................................................................................................................................................................................................................................................................................................................................................................................................................................................................\n",
      "Merge ...\n",
      "Quantiles ...\n"
     ]
    }
   ],
   "source": [
    "%run preamble_2.py\n",
    "reevaluate(STATS, \"hdr\", DS_DATA, DS_QUANTILES)"
   ]
  },
  {
   "cell_type": "code",
   "execution_count": 25,
   "metadata": {},
   "outputs": [],
   "source": [
    "save(json.dumps(STATS), \"results/\" + DS_NAME + \".json\")"
   ]
  },
  {
   "cell_type": "code",
   "execution_count": 26,
   "metadata": {},
   "outputs": [
    {
     "data": {
      "image/png": "[encoded data removed]",
      "text/plain": [
       "<Figure size 1440x360 with 1 Axes>"
      ]
     },
     "metadata": {},
     "output_type": "display_data"
    }
   ],
   "source": [
    "log_plot(total, [STATS[\"exact\"][\"quantiles\"][q] for q in DS_QUANTILES ], xmax=1e5)\n",
    "plt.title(\"Dataset '{}' with marked percentiles\".format(DS_NAME))\n",
    "plt.ylabel(\"count\")\n",
    "plt.xlabel(\"latency\")\n",
    "plt.savefig(\"images/\" + DS_NAME + \"_distribution_percentiles\", bbox_inches=\"tight\")"
   ]
  },
  {
   "cell_type": "code",
   "execution_count": 27,
   "metadata": {},
   "outputs": [
    {
     "data": {
      "image/png": "[encoded data removed]",
      "text/plain": [
       "<Figure size 720x288 with 1 Axes>"
      ]
     },
     "metadata": {},
     "output_type": "display_data"
    }
   ],
   "source": [
    "#\n",
    "# Stats: Quantiles\n",
    "#\n",
    "df = stats_quantiles(STATS)[METHODS_SEL]\n",
    "\n",
    "save(df.to_latex(), \"tables/\" + DS_NAME + \"_quantiles.tex\")\n",
    "\n",
    "plt.figure(figsize=(10,4))\n",
    "plt.title(DS_NAME + \" / Quantile Functions\")\n",
    "for name in METHODS_SEL:\n",
    "    plt.plot(DS_QUANTILES, [ STATS[name][\"quantiles\"][q] for q in DS_QUANTILES ] ,\".-\")\n",
    "\n",
    "plt.legend(METHODS_SEL)\n",
    "plt.savefig(\"images/\" + DS_NAME + \"_quantile_comparison\")"
   ]
  },
  {
   "cell_type": "code",
   "execution_count": 28,
   "metadata": {},
   "outputs": [
    {
     "data": {
      "text/html": [
       "<div>\n",
       "<style scoped>\n",
       "    .dataframe tbody tr th:only-of-type {\n",
       "        vertical-align: middle;\n",
       "    }\n",
       "\n",
       "    .dataframe tbody tr th {\n",
       "        vertical-align: top;\n",
       "    }\n",
       "\n",
       "    .dataframe thead th {\n",
       "        text-align: right;\n",
       "    }\n",
       "</style>\n",
       "<table border=\"1\" class=\"dataframe\">\n",
       "  <thead>\n",
       "    <tr style=\"text-align: right;\">\n",
       "      <th></th>\n",
       "      <th>exact</th>\n",
       "      <th>prom</th>\n",
       "      <th>hdr</th>\n",
       "      <th>tdigest</th>\n",
       "      <th>dd</th>\n",
       "      <th>circllhist/type-7</th>\n",
       "    </tr>\n",
       "  </thead>\n",
       "  <tbody>\n",
       "    <tr>\n",
       "      <th>q0</th>\n",
       "      <td>0.290775</td>\n",
       "      <td>0.000000</td>\n",
       "      <td>0.290246</td>\n",
       "      <td>0.290775</td>\n",
       "      <td>0.290775</td>\n",
       "      <td>0.290385</td>\n",
       "    </tr>\n",
       "    <tr>\n",
       "      <th>q.25</th>\n",
       "      <td>17.911811</td>\n",
       "      <td>27.346052</td>\n",
       "      <td>17.931488</td>\n",
       "      <td>17.950573</td>\n",
       "      <td>17.994143</td>\n",
       "      <td>17.911775</td>\n",
       "    </tr>\n",
       "    <tr>\n",
       "      <th>q.5</th>\n",
       "      <td>24.914646</td>\n",
       "      <td>56.423912</td>\n",
       "      <td>25.018184</td>\n",
       "      <td>24.914638</td>\n",
       "      <td>24.780499</td>\n",
       "      <td>24.915317</td>\n",
       "    </tr>\n",
       "    <tr>\n",
       "      <th>q.75</th>\n",
       "      <td>34.875410</td>\n",
       "      <td>85.501772</td>\n",
       "      <td>35.003983</td>\n",
       "      <td>34.892596</td>\n",
       "      <td>34.815697</td>\n",
       "      <td>34.875685</td>\n",
       "    </tr>\n",
       "    <tr>\n",
       "      <th>q.9</th>\n",
       "      <td>404.770819</td>\n",
       "      <td>438.082141</td>\n",
       "      <td>405.444913</td>\n",
       "      <td>410.364935</td>\n",
       "      <td>407.544587</td>\n",
       "      <td>404.748022</td>\n",
       "    </tr>\n",
       "    <tr>\n",
       "      <th>q.95</th>\n",
       "      <td>2670.851152</td>\n",
       "      <td>2954.927197</td>\n",
       "      <td>2680.059593</td>\n",
       "      <td>2695.063664</td>\n",
       "      <td>2671.012821</td>\n",
       "      <td>2670.348510</td>\n",
       "    </tr>\n",
       "    <tr>\n",
       "      <th>q.99</th>\n",
       "      <td>10600.161716</td>\n",
       "      <td>10000.000000</td>\n",
       "      <td>10610.287208</td>\n",
       "      <td>10593.161512</td>\n",
       "      <td>10617.501634</td>\n",
       "      <td>10611.333061</td>\n",
       "    </tr>\n",
       "    <tr>\n",
       "      <th>q.995</th>\n",
       "      <td>10788.963851</td>\n",
       "      <td>10000.000000</td>\n",
       "      <td>10830.189534</td>\n",
       "      <td>10786.155686</td>\n",
       "      <td>10831.996616</td>\n",
       "      <td>10805.658190</td>\n",
       "    </tr>\n",
       "    <tr>\n",
       "      <th>q.999</th>\n",
       "      <td>10939.060919</td>\n",
       "      <td>10000.000000</td>\n",
       "      <td>10940.140696</td>\n",
       "      <td>10935.791336</td>\n",
       "      <td>10831.996616</td>\n",
       "      <td>10961.124966</td>\n",
       "    </tr>\n",
       "    <tr>\n",
       "      <th>q.9999</th>\n",
       "      <td>10972.372995</td>\n",
       "      <td>10000.000000</td>\n",
       "      <td>10995.116278</td>\n",
       "      <td>10971.552113</td>\n",
       "      <td>11050.824831</td>\n",
       "      <td>10996.104990</td>\n",
       "    </tr>\n",
       "    <tr>\n",
       "      <th>q.99999</th>\n",
       "      <td>10975.841546</td>\n",
       "      <td>10000.000000</td>\n",
       "      <td>10995.116278</td>\n",
       "      <td>10975.483685</td>\n",
       "      <td>11050.824831</td>\n",
       "      <td>10999.599656</td>\n",
       "    </tr>\n",
       "    <tr>\n",
       "      <th>q1</th>\n",
       "      <td>10976.190473</td>\n",
       "      <td>10000.000000</td>\n",
       "      <td>10995.116278</td>\n",
       "      <td>10976.190473</td>\n",
       "      <td>10976.190473</td>\n",
       "      <td>10999.991660</td>\n",
       "    </tr>\n",
       "  </tbody>\n",
       "</table>\n",
       "</div>"
      ],
      "text/plain": [
       "                exact          prom           hdr       tdigest            dd  \\\n",
       "q0           0.290775      0.000000      0.290246      0.290775      0.290775   \n",
       "q.25        17.911811     27.346052     17.931488     17.950573     17.994143   \n",
       "q.5         24.914646     56.423912     25.018184     24.914638     24.780499   \n",
       "q.75        34.875410     85.501772     35.003983     34.892596     34.815697   \n",
       "q.9        404.770819    438.082141    405.444913    410.364935    407.544587   \n",
       "q.95      2670.851152   2954.927197   2680.059593   2695.063664   2671.012821   \n",
       "q.99     10600.161716  10000.000000  10610.287208  10593.161512  10617.501634   \n",
       "q.995    10788.963851  10000.000000  10830.189534  10786.155686  10831.996616   \n",
       "q.999    10939.060919  10000.000000  10940.140696  10935.791336  10831.996616   \n",
       "q.9999   10972.372995  10000.000000  10995.116278  10971.552113  11050.824831   \n",
       "q.99999  10975.841546  10000.000000  10995.116278  10975.483685  11050.824831   \n",
       "q1       10976.190473  10000.000000  10995.116278  10976.190473  10976.190473   \n",
       "\n",
       "         circllhist/type-7  \n",
       "q0                0.290385  \n",
       "q.25             17.911775  \n",
       "q.5              24.915317  \n",
       "q.75             34.875685  \n",
       "q.9             404.748022  \n",
       "q.95           2670.348510  \n",
       "q.99          10611.333061  \n",
       "q.995         10805.658190  \n",
       "q.999         10961.124966  \n",
       "q.9999        10996.104990  \n",
       "q.99999       10999.599656  \n",
       "q1            10999.991660  "
      ]
     },
     "execution_count": 28,
     "metadata": {},
     "output_type": "execute_result"
    }
   ],
   "source": [
    "df"
   ]
  },
  {
   "cell_type": "code",
   "execution_count": 29,
   "metadata": {},
   "outputs": [
    {
     "data": {
      "image/png": "[encoded data removed]",
      "text/plain": [
       "<Figure size 240x360 with 1 Axes>"
      ]
     },
     "metadata": {},
     "output_type": "display_data"
    }
   ],
   "source": [
    "#\n",
    "# Stats: Size\n",
    "#\n",
    "df = stats_size(STATS)[METHODS_SEL].rename({\"bsize\" : DS_NAME }).rename({ \"circllhist/type-7\" : \"circllhist\" }, axis=1)\n",
    "\n",
    "save(df.to_latex(), \"tables/\" + DS_NAME + \"_size.tex\")\n",
    "\n",
    "fig = plt.figure(figsize=(10/3,5))\n",
    "ax = plt.subplot(1,1,1)\n",
    "df.plot(kind=\"bar\", ax=ax)\n",
    "plt.title(\"\")\n",
    "plt.yscale(\"log\")\n",
    "plt.ylabel(\"bytes\")\n",
    "plt.xticks(rotation=0)\n",
    "plt.ylim(1, 10**8)\n",
    "plt.savefig(\"images/\" + DS_NAME + \"_size\", bbox_inches = \"tight\")"
   ]
  },
  {
   "cell_type": "code",
   "execution_count": 30,
   "metadata": {},
   "outputs": [
    {
     "data": {
      "image/png": "[encoded data removed]",
      "text/plain": [
       "<Figure size 1080x288 with 1 Axes>"
      ]
     },
     "metadata": {},
     "output_type": "display_data"
    }
   ],
   "source": [
    "#\n",
    "# Stast: Timing\n",
    "#\n",
    "df = stats_timing(STATS)[METHODS_SEL].rename({ \"circllhist/type-7\" : \"circllhist\" }, axis=1)\n",
    "\n",
    "df.rename({ \"insert\" : \"Insertion\" , \"merge\" : \"Merge\", \"quantiles\" : \"Quantile Computation\" },inplace=True)\n",
    "\n",
    "# table in usec\n",
    "(df*10**6).to_latex(\"tables/\" + DS_NAME + \"_perf.tex\", float_format = \"%.1f\")\n",
    "\n",
    "fig = plt.figure(figsize=(15, 4))\n",
    "ax = plt.subplot(1,1,1)\n",
    "df.plot(kind=\"bar\", ax=ax)\n",
    "plt.yscale(\"log\")\n",
    "plt.ylabel(\"seconds\")\n",
    "plt.ylim(1e-9, 1e0)\n",
    "plt.yticks([10**-9, 10**-6, 10**-3, 10**-0])\n",
    "plt.title(\"Performance Comparison on '{}' Dataset\".format(DS_NAME))\n",
    "plt.xticks(rotation=0)\n",
    "plt.savefig(\"images/\" + DS_NAME + \"_perf\", bbox_inches = \"tight\")"
   ]
  },
  {
   "cell_type": "code",
   "execution_count": 31,
   "metadata": {},
   "outputs": [
    {
     "data": {
      "text/html": [
       "<div>\n",
       "<style scoped>\n",
       "    .dataframe tbody tr th:only-of-type {\n",
       "        vertical-align: middle;\n",
       "    }\n",
       "\n",
       "    .dataframe tbody tr th {\n",
       "        vertical-align: top;\n",
       "    }\n",
       "\n",
       "    .dataframe thead th {\n",
       "        text-align: right;\n",
       "    }\n",
       "</style>\n",
       "<table border=\"1\" class=\"dataframe\">\n",
       "  <thead>\n",
       "    <tr style=\"text-align: right;\">\n",
       "      <th></th>\n",
       "      <th>exact</th>\n",
       "      <th>prom</th>\n",
       "      <th>hdr</th>\n",
       "      <th>tdigest</th>\n",
       "      <th>dd</th>\n",
       "      <th>circllhist</th>\n",
       "    </tr>\n",
       "  </thead>\n",
       "  <tbody>\n",
       "    <tr>\n",
       "      <th>Insertion</th>\n",
       "      <td>2.106887e-08</td>\n",
       "      <td>6.930927e-06</td>\n",
       "      <td>0.000004</td>\n",
       "      <td>0.000002</td>\n",
       "      <td>0.000003</td>\n",
       "      <td>0.000001</td>\n",
       "    </tr>\n",
       "    <tr>\n",
       "      <th>Merge</th>\n",
       "      <td>3.487584e-03</td>\n",
       "      <td>8.632552e-07</td>\n",
       "      <td>0.000034</td>\n",
       "      <td>0.000024</td>\n",
       "      <td>0.000105</td>\n",
       "      <td>0.000016</td>\n",
       "    </tr>\n",
       "    <tr>\n",
       "      <th>Quantile Computation</th>\n",
       "      <td>8.377316e-02</td>\n",
       "      <td>8.329093e-06</td>\n",
       "      <td>0.001931</td>\n",
       "      <td>0.000001</td>\n",
       "      <td>0.000043</td>\n",
       "      <td>0.000006</td>\n",
       "    </tr>\n",
       "  </tbody>\n",
       "</table>\n",
       "</div>"
      ],
      "text/plain": [
       "                             exact          prom       hdr   tdigest  \\\n",
       "Insertion             2.106887e-08  6.930927e-06  0.000004  0.000002   \n",
       "Merge                 3.487584e-03  8.632552e-07  0.000034  0.000024   \n",
       "Quantile Computation  8.377316e-02  8.329093e-06  0.001931  0.000001   \n",
       "\n",
       "                            dd  circllhist  \n",
       "Insertion             0.000003    0.000001  \n",
       "Merge                 0.000105    0.000016  \n",
       "Quantile Computation  0.000043    0.000006  "
      ]
     },
     "execution_count": 31,
     "metadata": {},
     "output_type": "execute_result"
    }
   ],
   "source": [
    "df"
   ]
  },
  {
   "cell_type": "code",
   "execution_count": 32,
   "metadata": {},
   "outputs": [
    {
     "data": {
      "image/png": "[encoded data removed]",
      "text/plain": [
       "<Figure size 1080x288 with 1 Axes>"
      ]
     },
     "metadata": {},
     "output_type": "display_data"
    }
   ],
   "source": [
    "#\n",
    "# Stats: Accuracy\n",
    "#\n",
    "df = stats_qerr(STATS)[METHODS_SEL].rename({ \"circllhist/type-7\" : \"circllhist\" }, axis=1)\n",
    "\n",
    "METHODS_TBL = list(df.columns)\n",
    "METHODS_TBL.remove(\"exact\")\n",
    "df[METHODS_TBL].to_latex(\"tables/\" + DS_NAME + \"_accuracy.tex\", float_format=\"%.3f\")\n",
    "\n",
    "fig = plt.figure(figsize=(15, 4))\n",
    "ax = plt.subplot(1,1,1)\n",
    "plt.title(DS_NAME + \" / Accuracy Comparison\")\n",
    "ax.axhline(1, alpha=0.5, color=\"green\")\n",
    "ax.axhline(10, alpha=0.5, color=\"yellow\")\n",
    "ax.axhline(100, alpha=0.5, color=\"red\")\n",
    "df.plot(kind=\"bar\", ax=ax)\n",
    "plt.legend(loc=\"upper right\")\n",
    "plt.yscale(\"log\")\n",
    "plt.ylabel(\"Error %\")\n",
    "plt.ylim(1e-2, 1e4)\n",
    "plt.savefig(\"images/\" + DS_NAME + \"_accuracy\", bbox_inches=\"tight\")"
   ]
  },
  {
   "cell_type": "code",
   "execution_count": 33,
   "metadata": {},
   "outputs": [
    {
     "data": {
      "text/html": [
       "<div>\n",
       "<style scoped>\n",
       "    .dataframe tbody tr th:only-of-type {\n",
       "        vertical-align: middle;\n",
       "    }\n",
       "\n",
       "    .dataframe tbody tr th {\n",
       "        vertical-align: top;\n",
       "    }\n",
       "\n",
       "    .dataframe thead th {\n",
       "        text-align: right;\n",
       "    }\n",
       "</style>\n",
       "<table border=\"1\" class=\"dataframe\">\n",
       "  <thead>\n",
       "    <tr style=\"text-align: right;\">\n",
       "      <th></th>\n",
       "      <th>exact</th>\n",
       "      <th>prom</th>\n",
       "      <th>hdr</th>\n",
       "      <th>tdigest</th>\n",
       "      <th>dd</th>\n",
       "      <th>circllhist</th>\n",
       "    </tr>\n",
       "  </thead>\n",
       "  <tbody>\n",
       "    <tr>\n",
       "      <th>q0-err%</th>\n",
       "      <td>0.0</td>\n",
       "      <td>100.000000</td>\n",
       "      <td>0.182058</td>\n",
       "      <td>0.000000</td>\n",
       "      <td>0.000000</td>\n",
       "      <td>0.134331</td>\n",
       "    </tr>\n",
       "    <tr>\n",
       "      <th>q.25-err%</th>\n",
       "      <td>0.0</td>\n",
       "      <td>52.670507</td>\n",
       "      <td>0.109859</td>\n",
       "      <td>0.216407</td>\n",
       "      <td>0.459655</td>\n",
       "      <td>0.000199</td>\n",
       "    </tr>\n",
       "    <tr>\n",
       "      <th>q.5-err%</th>\n",
       "      <td>0.0</td>\n",
       "      <td>126.468850</td>\n",
       "      <td>0.415574</td>\n",
       "      <td>0.000031</td>\n",
       "      <td>0.538426</td>\n",
       "      <td>0.002692</td>\n",
       "    </tr>\n",
       "    <tr>\n",
       "      <th>q.75-err%</th>\n",
       "      <td>0.0</td>\n",
       "      <td>145.163489</td>\n",
       "      <td>0.368665</td>\n",
       "      <td>0.049279</td>\n",
       "      <td>0.171219</td>\n",
       "      <td>0.000788</td>\n",
       "    </tr>\n",
       "    <tr>\n",
       "      <th>q.9-err%</th>\n",
       "      <td>0.0</td>\n",
       "      <td>8.229675</td>\n",
       "      <td>0.166537</td>\n",
       "      <td>1.382045</td>\n",
       "      <td>0.685269</td>\n",
       "      <td>0.005632</td>\n",
       "    </tr>\n",
       "    <tr>\n",
       "      <th>q.95-err%</th>\n",
       "      <td>0.0</td>\n",
       "      <td>10.636162</td>\n",
       "      <td>0.344776</td>\n",
       "      <td>0.906547</td>\n",
       "      <td>0.006053</td>\n",
       "      <td>0.018820</td>\n",
       "    </tr>\n",
       "    <tr>\n",
       "      <th>q.99-err%</th>\n",
       "      <td>0.0</td>\n",
       "      <td>5.661817</td>\n",
       "      <td>0.095522</td>\n",
       "      <td>0.066039</td>\n",
       "      <td>0.163582</td>\n",
       "      <td>0.105388</td>\n",
       "    </tr>\n",
       "    <tr>\n",
       "      <th>q.995-err%</th>\n",
       "      <td>0.0</td>\n",
       "      <td>7.312693</td>\n",
       "      <td>0.382110</td>\n",
       "      <td>0.026028</td>\n",
       "      <td>0.398859</td>\n",
       "      <td>0.154735</td>\n",
       "    </tr>\n",
       "    <tr>\n",
       "      <th>q.999-err%</th>\n",
       "      <td>0.0</td>\n",
       "      <td>8.584475</td>\n",
       "      <td>0.009871</td>\n",
       "      <td>0.029889</td>\n",
       "      <td>0.978734</td>\n",
       "      <td>0.201700</td>\n",
       "    </tr>\n",
       "    <tr>\n",
       "      <th>q.9999-err%</th>\n",
       "      <td>0.0</td>\n",
       "      <td>8.862012</td>\n",
       "      <td>0.207278</td>\n",
       "      <td>0.007481</td>\n",
       "      <td>0.714994</td>\n",
       "      <td>0.216289</td>\n",
       "    </tr>\n",
       "    <tr>\n",
       "      <th>q.99999-err%</th>\n",
       "      <td>0.0</td>\n",
       "      <td>8.890813</td>\n",
       "      <td>0.175611</td>\n",
       "      <td>0.003260</td>\n",
       "      <td>0.683167</td>\n",
       "      <td>0.216458</td>\n",
       "    </tr>\n",
       "    <tr>\n",
       "      <th>q1-err%</th>\n",
       "      <td>0.0</td>\n",
       "      <td>8.893709</td>\n",
       "      <td>0.172426</td>\n",
       "      <td>0.000000</td>\n",
       "      <td>0.000000</td>\n",
       "      <td>0.216844</td>\n",
       "    </tr>\n",
       "  </tbody>\n",
       "</table>\n",
       "</div>"
      ],
      "text/plain": [
       "              exact        prom       hdr   tdigest        dd  circllhist\n",
       "q0-err%         0.0  100.000000  0.182058  0.000000  0.000000    0.134331\n",
       "q.25-err%       0.0   52.670507  0.109859  0.216407  0.459655    0.000199\n",
       "q.5-err%        0.0  126.468850  0.415574  0.000031  0.538426    0.002692\n",
       "q.75-err%       0.0  145.163489  0.368665  0.049279  0.171219    0.000788\n",
       "q.9-err%        0.0    8.229675  0.166537  1.382045  0.685269    0.005632\n",
       "q.95-err%       0.0   10.636162  0.344776  0.906547  0.006053    0.018820\n",
       "q.99-err%       0.0    5.661817  0.095522  0.066039  0.163582    0.105388\n",
       "q.995-err%      0.0    7.312693  0.382110  0.026028  0.398859    0.154735\n",
       "q.999-err%      0.0    8.584475  0.009871  0.029889  0.978734    0.201700\n",
       "q.9999-err%     0.0    8.862012  0.207278  0.007481  0.714994    0.216289\n",
       "q.99999-err%    0.0    8.890813  0.175611  0.003260  0.683167    0.216458\n",
       "q1-err%         0.0    8.893709  0.172426  0.000000  0.000000    0.216844"
      ]
     },
     "execution_count": 33,
     "metadata": {},
     "output_type": "execute_result"
    }
   ],
   "source": [
    "df"
   ]
  },
  {
   "cell_type": "code",
   "execution_count": null,
   "metadata": {},
   "outputs": [],
   "source": []
  }
 ],
 "metadata": {
  "kernelspec": {
   "display_name": "Python 3",
   "language": "python",
   "name": "python3"
  },
  "language_info": {
   "codemirror_mode": {
    "name": "ipython",
    "version": 3
   },
   "file_extension": ".py",
   "mimetype": "text/x-python",
   "name": "python",
   "nbconvert_exporter": "python",
   "pygments_lexer": "ipython3",
   "version": "3.7.3"
  }
 },
 "nbformat": 4,
 "nbformat_minor": 4
}
