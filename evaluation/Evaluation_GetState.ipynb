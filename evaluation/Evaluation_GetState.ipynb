{
 "cells": [
  {
   "cell_type": "code",
   "execution_count": 1,
   "metadata": {},
   "outputs": [],
   "source": [
    "%run preamble_2.py\n",
    "%matplotlib inline\n",
    "\n",
    "!mkdir -p images tables results\n",
    "\n",
    "from IPython.display import HTML"
   ]
  },
  {
   "cell_type": "code",
   "execution_count": 2,
   "metadata": {},
   "outputs": [],
   "source": [
    "#\n",
    "# /getStats Dataset\n",
    "#\n",
    "DS_NAME=\"API Latencies\"\n",
    "FILENAME=\"datasets/{}-{}.npy\".format(6 * 7 * 24, 60 * 10)\n",
    "DS_DATA = np.load(FILENAME, allow_pickle=True)\n",
    "DS_QUANTILES = [0, .25, 0.5, 0.75, .9, .95, .99, .995, .999, .9999, .99999, 1 ]"
   ]
  },
  {
   "cell_type": "code",
   "execution_count": 3,
   "metadata": {},
   "outputs": [],
   "source": [
    "# prom\n",
    "CLASSES[1].thresholds = np.array([ 0, 1, 10, 100, 1000, 2000, 5000, 8000, 9000, 10000 ])"
   ]
  },
  {
   "cell_type": "code",
   "execution_count": 4,
   "metadata": {},
   "outputs": [
    {
     "name": "stdout",
     "output_type": "stream",
     "text": [
      "# exact\n",
      "Insert ..............................................................................................................................................................................................................................................................................................................................................................................................................................................................................................................................................................................................................................................................................................................................................................................................................................................................................................................................................................................................................................\n",
      "Merge ...\n",
      "Quantiles ...\n",
      "# prom\n",
      "Insert ..............................................................................................................................................................................................................................................................................................................................................................................................................................................................................................................................................................................................................................................................................................................................................................................................................................................................................................................................................................................................................................\n",
      "Merge ...\n",
      "Quantiles ...\n",
      "# tdigest\n",
      "Insert ..............................................................................................................................................................................................................................................................................................................................................................................................................................................................................................................................................................................................................................................................................................................................................................................................................................................................................................................................................................................................................................\n",
      "Merge ...\n",
      "Quantiles ...\n",
      "# hdr\n",
      "Insert ..............................................................................................................................................................................................................................................................................................................................................................................................................................................................................................................................................................................................................................................................................................................................................................................................................................................................................................................................................................................................................................\n",
      "Merge ...\n",
      "Quantiles ...\n",
      "# dd\n",
      "Insert ..............................................................................................................................................................................................................................................................................................................................................................................................................................................................................................................................................................................................................................................................................................................................................................................................................................................................................................................................................................................................................................\n",
      "Merge ...\n",
      "Quantiles ...\n",
      "# circllhist\n",
      "Insert ..............................................................................................................................................................................................................................................................................................................................................................................................................................................................................................................................................................................................................................................................................................................................................................................................................................................................................................................................................................................................................................\n",
      "Merge ...\n",
      "Quantiles ...\n"
     ]
    }
   ],
   "source": [
    "STATS = evaluate_all(DS_DATA, DS_QUANTILES)"
   ]
  },
  {
   "cell_type": "code",
   "execution_count": 5,
   "metadata": {},
   "outputs": [],
   "source": [
    "save_results(STATS, DS_NAME)"
   ]
  },
  {
   "cell_type": "code",
   "execution_count": 6,
   "metadata": {},
   "outputs": [
    {
     "data": {
      "image/png": "[encoded data removed]",
      "text/plain": [
       "<Figure size 720x360 with 1 Axes>"
      ]
     },
     "metadata": {
      "needs_background": "light"
     },
     "output_type": "display_data"
    }
   ],
   "source": [
    "total = np.concatenate(DS_DATA)\n",
    "\n",
    "xmin=1\n",
    "xmax=11000\n",
    "X = total\n",
    "plt.figure(figsize=(10,5))\n",
    "ax = plt.subplot(1,1,1)\n",
    "ax.hist(X, bins=np.exp(np.linspace(np.log(xmin), np.log(xmax), 300)));\n",
    "ax.text(0.99, 0.95, '{} Requests'.format(len(X)), horizontalalignment='right', verticalalignment='top', transform=ax.transAxes, fontsize=15)\n",
    "\n",
    "Qs = [STATS[\"exact\"][\"quantiles\"][q] for q in DS_QUANTILES ]\n",
    "for y in Qs: ax.axvline(y, color=\"blue\", alpha=.5, ymax=0.2)\n",
    "\n",
    "plt.xscale(\"log\")\n",
    "\n",
    "plt.savefig(\"images/dist_\" + DS_NAME)"
   ]
  }
 ],
 "metadata": {
  "kernelspec": {
   "display_name": "Python 3",
   "language": "python",
   "name": "python3"
  },
  "language_info": {
   "codemirror_mode": {
    "name": "ipython",
    "version": 3
   },
   "file_extension": ".py",
   "mimetype": "text/x-python",
   "name": "python",
   "nbconvert_exporter": "python",
   "pygments_lexer": "ipython3",
   "version": "3.7.3"
  }
 },
 "nbformat": 4,
 "nbformat_minor": 4
}
