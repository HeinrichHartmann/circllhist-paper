{
 "cells": [
  {
   "cell_type": "code",
   "execution_count": 1,
   "metadata": {},
   "outputs": [],
   "source": [
    "%run preamble_2.py\n",
    "%matplotlib inline\n",
    "\n",
    "!mkdir -p images tables results\n",
    "\n",
    "from IPython.display import HTML"
   ]
  },
  {
   "cell_type": "code",
   "execution_count": 2,
   "metadata": {},
   "outputs": [],
   "source": [
    "#\n",
    "# Simulated Data\n",
    "#\n",
    "DS_NAME =\"Simulated Latencies\"\n",
    "\n",
    "N = 1000\n",
    "batches_sim = [0]*N\n",
    "for i in range(N):\n",
    "    batch_size = np.random.geometric(.001)\n",
    "    batches_sim[i] = [0] * batch_size\n",
    "    for j in range(batch_size):\n",
    "        a = np.random.uniform(.5, 5)\n",
    "        s = np.random.exponential(0.1)\n",
    "        x = np.random.exponential(0.01)\n",
    "        batches_sim[i][j] = x + s*np.random.pareto(a)       \n",
    "\n",
    "DS_DATA = batches_sim\n",
    "DS_QUANTILES = [0, .25, 0.5, 0.75, .9, .95, .99, .995, .999, .9999, .99999, 1 ]"
   ]
  },
  {
   "cell_type": "code",
   "execution_count": 3,
   "metadata": {},
   "outputs": [
    {
     "data": {
      "image/png": "[encoded data removed]",
      "text/plain": [
       "<Figure size 1440x360 with 1 Axes>"
      ]
     },
     "metadata": {
      "needs_background": "light"
     },
     "output_type": "display_data"
    }
   ],
   "source": [
    "total = np.concatenate(DS_DATA)\n",
    "ax = log_plot(total, [], xmin=1e-5, xmax=1e8)\n",
    "# plt.savefig(\"images/\" + DS_NAME + \"_distribution\")"
   ]
  },
  {
   "cell_type": "code",
   "execution_count": 20,
   "metadata": {},
   "outputs": [],
   "source": [
    "# Run Configuration\n",
    "\n",
    "# HDR\n",
    "CLASSES[2].M = 10**10\n",
    "\n",
    "# Prom\n",
    "CLASSES[6].thresholds = np.array([ 0, 1, 10, 100, 1000, 5000, 10000, 200000, 50000, 800000, 1000000 ])\n",
    "\n",
    "METHODS_SEL = [\n",
    " 'exact',\n",
    " 'prom',\n",
    " 'hdr',\n",
    " 'tdigest',\n",
    " 'dd',\n",
    " 'circllhist/type-7',\n",
    "]\n",
    "METHODS_RENAME = { 'circllhist/type-7' : \"circllhist\" }"
   ]
  },
  {
   "cell_type": "code",
   "execution_count": 5,
   "metadata": {},
   "outputs": [
    {
     "name": "stdout",
     "output_type": "stream",
     "text": [
      "# exact\n",
      "Insert ........................................................................................................................................................................................................................................................................................................................................................................................................................................................................................................................................................................................................................................................................................................................................................................................................................................................................................................................................................................................................................................\n",
      "Merge ...\n",
      "Quantiles ...\n",
      "# tdigest\n",
      "Insert ........................................................................................................................................................................................................................................................................................................................................................................................................................................................................................................................................................................................................................................................................................................................................................................................................................................................................................................................................................................................................................................\n",
      "Merge ...\n",
      "Quantiles ...\n",
      "# hdr\n",
      "Insert ........................................................................................................................................................................................................................................................................................................................................................................................................................................................................................................................................................................................................................................................................................................................................................................................................................................................................................................................................................................................................................................\n",
      "Merge ...\n",
      "Quantiles ...\n",
      "# dd\n",
      "Insert ........................................................................................................................................................................................................................................................................................................................................................................................................................................................................................................................................................................................................................................................................................................................................................................................................................................................................................................................................................................................................................................\n",
      "Merge ...\n",
      "Quantiles ...\n",
      "# circllhist/type-1\n",
      "Insert ........................................................................................................................................................................................................................................................................................................................................................................................................................................................................................................................................................................................................................................................................................................................................................................................................................................................................................................................................................................................................................................\n",
      "Merge ...\n",
      "Quantiles ...\n",
      "# circllhist/type-7\n",
      "Insert ........................................................................................................................................................................................................................................................................................................................................................................................................................................................................................................................................................................................................................................................................................................................................................................................................................................................................................................................................................................................................................................\n",
      "Merge ...\n",
      "Quantiles ...\n",
      "# prom\n",
      "Insert ........................................................................................................................................................................................................................................................................................................................................................................................................................................................................................................................................................................................................................................................................................................................................................................................................................................................................................................................................................................................................................................\n",
      "Merge ...\n",
      "Quantiles ...\n"
     ]
    }
   ],
   "source": [
    "STATS = evaluate_all(DS_DATA, DS_QUANTILES)"
   ]
  },
  {
   "cell_type": "code",
   "execution_count": 21,
   "metadata": {},
   "outputs": [
    {
     "name": "stdout",
     "output_type": "stream",
     "text": [
      "# prom\n",
      "Insert ........................................................................................................................................................................................................................................................................................................................................................................................................................................................................................................................................................................................................................................................................................................................................................................................................................................................................................................................................................................................................................................\n",
      "Merge ...\n",
      "Quantiles ...\n"
     ]
    }
   ],
   "source": [
    "# reevaluate(STATS, \"prom\", DS_DATA, DS_QUANTILES)"
   ]
  },
  {
   "cell_type": "code",
   "execution_count": 37,
   "metadata": {},
   "outputs": [
    {
     "name": "stdout",
     "output_type": "stream",
     "text": [
      "# hdr\n",
      "Insert ........................................................................................................................................................................................................................................................................................................................................................................................................................................................................................................................................................................................................................................................................................................................................................................................................................................................................................................................................................................................................................................\n",
      "Merge ...\n",
      "Quantiles ...\n"
     ]
    },
    {
     "data": {
      "text/plain": [
       "<Figure size 432x288 with 0 Axes>"
      ]
     },
     "metadata": {},
     "output_type": "display_data"
    }
   ],
   "source": [
    "%run preamble_2.py\n",
    "reevaluate(STATS, \"hdr\", DS_DATA, DS_QUANTILES)"
   ]
  },
  {
   "cell_type": "code",
   "execution_count": 38,
   "metadata": {},
   "outputs": [],
   "source": [
    "save(json.dumps(STATS), \"results/\" + DS_NAME + \".json\")"
   ]
  },
  {
   "cell_type": "code",
   "execution_count": 39,
   "metadata": {},
   "outputs": [
    {
     "data": {
      "image/png": "[encoded data removed]",
      "text/plain": [
       "<Figure size 1440x360 with 1 Axes>"
      ]
     },
     "metadata": {},
     "output_type": "display_data"
    }
   ],
   "source": [
    "log_plot(total, [STATS[\"exact\"][\"quantiles\"][q] for q in DS_QUANTILES ], xmin=1e-6, xmax=1e9)\n",
    "plt.ylabel(\"count\")\n",
    "plt.xlabel(\"latency\")\n",
    "plt.title(\"Dataset '{}' with marked percentiles\".format(DS_NAME))\n",
    "plt.savefig(\"images/\" + DS_NAME + \"_distribution_percentiles\", bbox_inches=\"tight\")"
   ]
  },
  {
   "cell_type": "code",
   "execution_count": 40,
   "metadata": {},
   "outputs": [
    {
     "data": {
      "image/png": "[encoded data removed]",
      "text/plain": [
       "<Figure size 720x288 with 1 Axes>"
      ]
     },
     "metadata": {},
     "output_type": "display_data"
    }
   ],
   "source": [
    "#\n",
    "# Stats: Quantiles\n",
    "#\n",
    "df = stats_quantiles(STATS)[METHODS_SEL]\n",
    "\n",
    "# save(df.to_latex(), \"tables/\" + DS_NAME + \"_quantiles.tex\")\n",
    "\n",
    "plt.figure(figsize=(10,4))\n",
    "plt.title(DS_NAME + \"Quantile Functions\")\n",
    "for name in METHODS:\n",
    "    plt.plot(DS_QUANTILES, [ STATS[name][\"quantiles\"][q] for q in DS_QUANTILES ] ,\".-\")\n",
    "\n",
    "plt.legend(METHODS)\n",
    "plt.yscale(\"log\")\n",
    "# plt.savefig(\"images/\" + DS_NAME + \"_quantile_comparison\")"
   ]
  },
  {
   "cell_type": "code",
   "execution_count": 41,
   "metadata": {},
   "outputs": [
    {
     "data": {
      "text/html": [
       "<div>\n",
       "<style scoped>\n",
       "    .dataframe tbody tr th:only-of-type {\n",
       "        vertical-align: middle;\n",
       "    }\n",
       "\n",
       "    .dataframe tbody tr th {\n",
       "        vertical-align: top;\n",
       "    }\n",
       "\n",
       "    .dataframe thead th {\n",
       "        text-align: right;\n",
       "    }\n",
       "</style>\n",
       "<table border=\"1\" class=\"dataframe\">\n",
       "  <thead>\n",
       "    <tr style=\"text-align: right;\">\n",
       "      <th></th>\n",
       "      <th>exact</th>\n",
       "      <th>prom</th>\n",
       "      <th>hdr</th>\n",
       "      <th>tdigest</th>\n",
       "      <th>dd</th>\n",
       "      <th>circllhist/type-7</th>\n",
       "    </tr>\n",
       "  </thead>\n",
       "  <tbody>\n",
       "    <tr>\n",
       "      <th>q0</th>\n",
       "      <td>1.583411e-05</td>\n",
       "      <td>0.000000</td>\n",
       "      <td>1.576960e-05</td>\n",
       "      <td>1.583411e-05</td>\n",
       "      <td>1.583411e-05</td>\n",
       "      <td>1.550000e-05</td>\n",
       "    </tr>\n",
       "    <tr>\n",
       "      <th>q.25</th>\n",
       "      <td>1.422763e-02</td>\n",
       "      <td>0.257004</td>\n",
       "      <td>1.426063e-02</td>\n",
       "      <td>1.424767e-02</td>\n",
       "      <td>1.426150e-02</td>\n",
       "      <td>1.423643e-02</td>\n",
       "    </tr>\n",
       "    <tr>\n",
       "      <th>q.5</th>\n",
       "      <td>3.166330e-02</td>\n",
       "      <td>0.514008</td>\n",
       "      <td>3.166700e-02</td>\n",
       "      <td>3.168511e-02</td>\n",
       "      <td>3.174040e-02</td>\n",
       "      <td>3.167246e-02</td>\n",
       "    </tr>\n",
       "    <tr>\n",
       "      <th>q.75</th>\n",
       "      <td>8.048736e-02</td>\n",
       "      <td>0.771012</td>\n",
       "      <td>8.053064e-02</td>\n",
       "      <td>8.056890e-02</td>\n",
       "      <td>8.125738e-02</td>\n",
       "      <td>8.050000e-02</td>\n",
       "    </tr>\n",
       "    <tr>\n",
       "      <th>q.9</th>\n",
       "      <td>2.332746e-01</td>\n",
       "      <td>0.925214</td>\n",
       "      <td>2.348810e-01</td>\n",
       "      <td>2.340721e-01</td>\n",
       "      <td>2.345472e-01</td>\n",
       "      <td>2.332948e-01</td>\n",
       "    </tr>\n",
       "    <tr>\n",
       "      <th>q.95</th>\n",
       "      <td>5.001537e-01</td>\n",
       "      <td>0.976615</td>\n",
       "      <td>5.033165e-01</td>\n",
       "      <td>5.042192e-01</td>\n",
       "      <td>5.015395e-01</td>\n",
       "      <td>5.001749e-01</td>\n",
       "    </tr>\n",
       "    <tr>\n",
       "      <th>q.99</th>\n",
       "      <td>3.350544e+00</td>\n",
       "      <td>7.825580</td>\n",
       "      <td>3.355443e+00</td>\n",
       "      <td>3.489660e+00</td>\n",
       "      <td>3.353452e+00</td>\n",
       "      <td>3.352521e+00</td>\n",
       "    </tr>\n",
       "    <tr>\n",
       "      <th>q.995</th>\n",
       "      <td>8.641148e+00</td>\n",
       "      <td>9.803723</td>\n",
       "      <td>8.643622e+00</td>\n",
       "      <td>9.527658e+00</td>\n",
       "      <td>8.585044e+00</td>\n",
       "      <td>8.640426e+00</td>\n",
       "    </tr>\n",
       "    <tr>\n",
       "      <th>q.999</th>\n",
       "      <td>9.325152e+01</td>\n",
       "      <td>98.973286</td>\n",
       "      <td>9.363029e+01</td>\n",
       "      <td>1.270286e+02</td>\n",
       "      <td>9.276793e+01</td>\n",
       "      <td>9.325000e+01</td>\n",
       "    </tr>\n",
       "    <tr>\n",
       "      <th>q.9999</th>\n",
       "      <td>3.775303e+03</td>\n",
       "      <td>4649.424113</td>\n",
       "      <td>3.848291e+03</td>\n",
       "      <td>9.400502e+03</td>\n",
       "      <td>3.752676e+03</td>\n",
       "      <td>3.750000e+03</td>\n",
       "    </tr>\n",
       "    <tr>\n",
       "      <th>q.99999</th>\n",
       "      <td>1.342342e+05</td>\n",
       "      <td>611158.250003</td>\n",
       "      <td>1.372191e+05</td>\n",
       "      <td>3.569681e+06</td>\n",
       "      <td>1.346378e+05</td>\n",
       "      <td>1.350000e+05</td>\n",
       "    </tr>\n",
       "    <tr>\n",
       "      <th>q1</th>\n",
       "      <td>8.886326e+07</td>\n",
       "      <td>1000000.000000</td>\n",
       "      <td>8.917127e+07</td>\n",
       "      <td>8.886326e+07</td>\n",
       "      <td>8.886326e+07</td>\n",
       "      <td>8.850000e+07</td>\n",
       "    </tr>\n",
       "  </tbody>\n",
       "</table>\n",
       "</div>"
      ],
      "text/plain": [
       "                exact            prom           hdr       tdigest  \\\n",
       "q0       1.583411e-05        0.000000  1.576960e-05  1.583411e-05   \n",
       "q.25     1.422763e-02        0.257004  1.426063e-02  1.424767e-02   \n",
       "q.5      3.166330e-02        0.514008  3.166700e-02  3.168511e-02   \n",
       "q.75     8.048736e-02        0.771012  8.053064e-02  8.056890e-02   \n",
       "q.9      2.332746e-01        0.925214  2.348810e-01  2.340721e-01   \n",
       "q.95     5.001537e-01        0.976615  5.033165e-01  5.042192e-01   \n",
       "q.99     3.350544e+00        7.825580  3.355443e+00  3.489660e+00   \n",
       "q.995    8.641148e+00        9.803723  8.643622e+00  9.527658e+00   \n",
       "q.999    9.325152e+01       98.973286  9.363029e+01  1.270286e+02   \n",
       "q.9999   3.775303e+03     4649.424113  3.848291e+03  9.400502e+03   \n",
       "q.99999  1.342342e+05   611158.250003  1.372191e+05  3.569681e+06   \n",
       "q1       8.886326e+07  1000000.000000  8.917127e+07  8.886326e+07   \n",
       "\n",
       "                   dd  circllhist/type-7  \n",
       "q0       1.583411e-05       1.550000e-05  \n",
       "q.25     1.426150e-02       1.423643e-02  \n",
       "q.5      3.174040e-02       3.167246e-02  \n",
       "q.75     8.125738e-02       8.050000e-02  \n",
       "q.9      2.345472e-01       2.332948e-01  \n",
       "q.95     5.015395e-01       5.001749e-01  \n",
       "q.99     3.353452e+00       3.352521e+00  \n",
       "q.995    8.585044e+00       8.640426e+00  \n",
       "q.999    9.276793e+01       9.325000e+01  \n",
       "q.9999   3.752676e+03       3.750000e+03  \n",
       "q.99999  1.346378e+05       1.350000e+05  \n",
       "q1       8.886326e+07       8.850000e+07  "
      ]
     },
     "execution_count": 41,
     "metadata": {},
     "output_type": "execute_result"
    }
   ],
   "source": [
    "df"
   ]
  },
  {
   "cell_type": "code",
   "execution_count": 42,
   "metadata": {},
   "outputs": [
    {
     "data": {
      "image/png": "[encoded data removed]",
      "text/plain": [
       "<Figure size 240x360 with 1 Axes>"
      ]
     },
     "metadata": {},
     "output_type": "display_data"
    }
   ],
   "source": [
    "#\n",
    "# Stats: Size\n",
    "#\n",
    "df = stats_size(STATS)[METHODS_SEL].rename(METHODS_RENAME, axis=1).rename({\"bsize\" : DS_NAME })\n",
    "\n",
    "save(df.to_latex(), \"tables/\" + DS_NAME + \"_size.tex\")\n",
    "\n",
    "fig = plt.figure(figsize=(10/3,5))\n",
    "ax = plt.subplot(1,1,1)\n",
    "df.plot(kind=\"bar\", ax=ax)\n",
    "plt.title(\"\")\n",
    "plt.yscale(\"log\")\n",
    "plt.ylabel(\"bytes\")\n",
    "plt.xticks(rotation=0)\n",
    "plt.ylim(1, 10**8)\n",
    "plt.savefig(\"images/\" + DS_NAME + \"_size\", bbox_inches = \"tight\")"
   ]
  },
  {
   "cell_type": "code",
   "execution_count": 43,
   "metadata": {},
   "outputs": [
    {
     "data": {
      "text/html": [
       "<div>\n",
       "<style scoped>\n",
       "    .dataframe tbody tr th:only-of-type {\n",
       "        vertical-align: middle;\n",
       "    }\n",
       "\n",
       "    .dataframe tbody tr th {\n",
       "        vertical-align: top;\n",
       "    }\n",
       "\n",
       "    .dataframe thead th {\n",
       "        text-align: right;\n",
       "    }\n",
       "</style>\n",
       "<table border=\"1\" class=\"dataframe\">\n",
       "  <thead>\n",
       "    <tr style=\"text-align: right;\">\n",
       "      <th></th>\n",
       "      <th>exact</th>\n",
       "      <th>prom</th>\n",
       "      <th>hdr</th>\n",
       "      <th>tdigest</th>\n",
       "      <th>dd</th>\n",
       "      <th>circllhist</th>\n",
       "    </tr>\n",
       "  </thead>\n",
       "  <tbody>\n",
       "    <tr>\n",
       "      <th>Simulated Latencies</th>\n",
       "      <td>8028624</td>\n",
       "      <td>96</td>\n",
       "      <td>3699.0</td>\n",
       "      <td>2096</td>\n",
       "      <td>3428</td>\n",
       "      <td>3396.0</td>\n",
       "    </tr>\n",
       "  </tbody>\n",
       "</table>\n",
       "</div>"
      ],
      "text/plain": [
       "                       exact  prom     hdr  tdigest    dd  circllhist\n",
       "Simulated Latencies  8028624    96  3699.0     2096  3428      3396.0"
      ]
     },
     "execution_count": 43,
     "metadata": {},
     "output_type": "execute_result"
    }
   ],
   "source": [
    "df"
   ]
  },
  {
   "cell_type": "code",
   "execution_count": 44,
   "metadata": {},
   "outputs": [
    {
     "data": {
      "text/plain": [
       "[1e-09, 1e-08, 1e-07, 1e-06, 1e-05, 0.0001, 0.001, 0.01, 0.1, 1]"
      ]
     },
     "execution_count": 44,
     "metadata": {},
     "output_type": "execute_result"
    }
   ],
   "source": [
    "[10**k for k in range(-9,1,1) ]"
   ]
  },
  {
   "cell_type": "code",
   "execution_count": 45,
   "metadata": {},
   "outputs": [
    {
     "data": {
      "image/png": "[encoded data removed]",
      "text/plain": [
       "<Figure size 1080x288 with 1 Axes>"
      ]
     },
     "metadata": {},
     "output_type": "display_data"
    }
   ],
   "source": [
    "#\n",
    "# Stast: Timing\n",
    "#\n",
    "df = stats_timing(STATS)[METHODS_SEL].rename(METHODS_RENAME, axis=1)\n",
    "\n",
    "df.rename({ \"insert\" : \"Insertion\" , \"merge\" : \"Merge\", \"quantiles\" : \"Quantile Computation\" },inplace=True)\n",
    "\n",
    "# table in usec\n",
    "(df*10**6).to_latex(\"tables/\" + DS_NAME + \"_perf.tex\", float_format = \"%.1f\")\n",
    "\n",
    "fig = plt.figure(figsize=(15, 4))\n",
    "ax = plt.subplot(1,1,1)\n",
    "df.plot(kind=\"bar\", ax=ax)\n",
    "plt.yscale(\"log\")\n",
    "plt.ylabel(\"seconds\")\n",
    "plt.ylim(1e-9, 1e0)\n",
    "plt.yticks([10**k for k in range(-9,1,3)])\n",
    "plt.title(\"Performance Comparison on '{}' Dataset\".format(DS_NAME))\n",
    "plt.xticks(rotation=0)\n",
    "plt.savefig(\"images/\" + DS_NAME + \"_perf\", bbox_inches = \"tight\")"
   ]
  },
  {
   "cell_type": "code",
   "execution_count": 46,
   "metadata": {},
   "outputs": [
    {
     "data": {
      "text/html": [
       "<div>\n",
       "<style scoped>\n",
       "    .dataframe tbody tr th:only-of-type {\n",
       "        vertical-align: middle;\n",
       "    }\n",
       "\n",
       "    .dataframe tbody tr th {\n",
       "        vertical-align: top;\n",
       "    }\n",
       "\n",
       "    .dataframe thead th {\n",
       "        text-align: right;\n",
       "    }\n",
       "</style>\n",
       "<table border=\"1\" class=\"dataframe\">\n",
       "  <thead>\n",
       "    <tr style=\"text-align: right;\">\n",
       "      <th></th>\n",
       "      <th>exact</th>\n",
       "      <th>prom</th>\n",
       "      <th>hdr</th>\n",
       "      <th>tdigest</th>\n",
       "      <th>dd</th>\n",
       "      <th>circllhist</th>\n",
       "    </tr>\n",
       "  </thead>\n",
       "  <tbody>\n",
       "    <tr>\n",
       "      <th>Insertion</th>\n",
       "      <td>1.376135e-07</td>\n",
       "      <td>6.489667e-06</td>\n",
       "      <td>0.000003</td>\n",
       "      <td>0.000002</td>\n",
       "      <td>0.000003</td>\n",
       "      <td>0.000001</td>\n",
       "    </tr>\n",
       "    <tr>\n",
       "      <th>Merge</th>\n",
       "      <td>4.154061e-04</td>\n",
       "      <td>9.527259e-07</td>\n",
       "      <td>0.000037</td>\n",
       "      <td>0.000027</td>\n",
       "      <td>0.000186</td>\n",
       "      <td>0.000032</td>\n",
       "    </tr>\n",
       "    <tr>\n",
       "      <th>Quantile Computation</th>\n",
       "      <td>1.422245e-02</td>\n",
       "      <td>1.004074e-05</td>\n",
       "      <td>0.001583</td>\n",
       "      <td>0.000001</td>\n",
       "      <td>0.000051</td>\n",
       "      <td>0.000009</td>\n",
       "    </tr>\n",
       "  </tbody>\n",
       "</table>\n",
       "</div>"
      ],
      "text/plain": [
       "                             exact          prom       hdr   tdigest  \\\n",
       "Insertion             1.376135e-07  6.489667e-06  0.000003  0.000002   \n",
       "Merge                 4.154061e-04  9.527259e-07  0.000037  0.000027   \n",
       "Quantile Computation  1.422245e-02  1.004074e-05  0.001583  0.000001   \n",
       "\n",
       "                            dd  circllhist  \n",
       "Insertion             0.000003    0.000001  \n",
       "Merge                 0.000186    0.000032  \n",
       "Quantile Computation  0.000051    0.000009  "
      ]
     },
     "execution_count": 46,
     "metadata": {},
     "output_type": "execute_result"
    }
   ],
   "source": [
    "df"
   ]
  },
  {
   "cell_type": "code",
   "execution_count": 47,
   "metadata": {},
   "outputs": [
    {
     "data": {
      "image/png": "[encoded data removed]",
      "text/plain": [
       "<Figure size 1080x288 with 1 Axes>"
      ]
     },
     "metadata": {},
     "output_type": "display_data"
    }
   ],
   "source": [
    "#\n",
    "# Stats: Accuracy\n",
    "#\n",
    "df = stats_qerr(STATS)[METHODS_SEL].rename({ \"circllhist/type-7\" : \"circllhist\" }, axis=1)\n",
    "\n",
    "METHODS_TBL = list(df.columns)\n",
    "METHODS_TBL.remove(\"exact\")\n",
    "df[METHODS_TBL].to_latex(\"tables/\" + DS_NAME + \"_accuracy.tex\", float_format=\"%.3f\")\n",
    "\n",
    "\n",
    "fig = plt.figure(figsize=(15, 4))\n",
    "ax = plt.subplot(1,1,1)\n",
    "plt.title(DS_NAME + \" / Accuracy Comparison\")\n",
    "ax.axhline(1, alpha=0.5, color=\"green\")\n",
    "ax.axhline(10, alpha=0.5, color=\"yellow\")\n",
    "ax.axhline(100, alpha=0.5, color=\"red\")\n",
    "df.plot(kind=\"bar\", ax=ax)\n",
    "plt.legend(loc=\"upper right\")\n",
    "plt.yscale(\"log\")\n",
    "plt.ylabel(\"Error %\")\n",
    "plt.ylim(1e-2, 1e6)\n",
    "plt.savefig(\"images/\" + DS_NAME + \"_accuracy\", bbox_inches=\"tight\")"
   ]
  },
  {
   "cell_type": "code",
   "execution_count": 48,
   "metadata": {},
   "outputs": [
    {
     "data": {
      "text/html": [
       "<div>\n",
       "<style scoped>\n",
       "    .dataframe tbody tr th:only-of-type {\n",
       "        vertical-align: middle;\n",
       "    }\n",
       "\n",
       "    .dataframe tbody tr th {\n",
       "        vertical-align: top;\n",
       "    }\n",
       "\n",
       "    .dataframe thead th {\n",
       "        text-align: right;\n",
       "    }\n",
       "</style>\n",
       "<table border=\"1\" class=\"dataframe\">\n",
       "  <thead>\n",
       "    <tr style=\"text-align: right;\">\n",
       "      <th></th>\n",
       "      <th>exact</th>\n",
       "      <th>prom</th>\n",
       "      <th>hdr</th>\n",
       "      <th>tdigest</th>\n",
       "      <th>dd</th>\n",
       "      <th>circllhist</th>\n",
       "    </tr>\n",
       "  </thead>\n",
       "  <tbody>\n",
       "    <tr>\n",
       "      <th>q0-err%</th>\n",
       "      <td>0.0</td>\n",
       "      <td>100.000000</td>\n",
       "      <td>0.407402</td>\n",
       "      <td>0.000000</td>\n",
       "      <td>0.000000</td>\n",
       "      <td>2.110056</td>\n",
       "    </tr>\n",
       "    <tr>\n",
       "      <th>q.25-err%</th>\n",
       "      <td>0.0</td>\n",
       "      <td>1706.372011</td>\n",
       "      <td>0.231939</td>\n",
       "      <td>0.140798</td>\n",
       "      <td>0.238030</td>\n",
       "      <td>0.061839</td>\n",
       "    </tr>\n",
       "    <tr>\n",
       "      <th>q.5-err%</th>\n",
       "      <td>0.0</td>\n",
       "      <td>1523.355617</td>\n",
       "      <td>0.011662</td>\n",
       "      <td>0.068886</td>\n",
       "      <td>0.243487</td>\n",
       "      <td>0.028913</td>\n",
       "    </tr>\n",
       "    <tr>\n",
       "      <th>q.75-err%</th>\n",
       "      <td>0.0</td>\n",
       "      <td>857.929298</td>\n",
       "      <td>0.053769</td>\n",
       "      <td>0.101305</td>\n",
       "      <td>0.956693</td>\n",
       "      <td>0.015705</td>\n",
       "    </tr>\n",
       "    <tr>\n",
       "      <th>q.9-err%</th>\n",
       "      <td>0.0</td>\n",
       "      <td>296.620225</td>\n",
       "      <td>0.688624</td>\n",
       "      <td>0.341869</td>\n",
       "      <td>0.545530</td>\n",
       "      <td>0.008642</td>\n",
       "    </tr>\n",
       "    <tr>\n",
       "      <th>q.95-err%</th>\n",
       "      <td>0.0</td>\n",
       "      <td>95.263028</td>\n",
       "      <td>0.632368</td>\n",
       "      <td>0.812855</td>\n",
       "      <td>0.277072</td>\n",
       "      <td>0.004238</td>\n",
       "    </tr>\n",
       "    <tr>\n",
       "      <th>q.99-err%</th>\n",
       "      <td>0.0</td>\n",
       "      <td>133.561461</td>\n",
       "      <td>0.146221</td>\n",
       "      <td>4.152054</td>\n",
       "      <td>0.086799</td>\n",
       "      <td>0.059006</td>\n",
       "    </tr>\n",
       "    <tr>\n",
       "      <th>q.995-err%</th>\n",
       "      <td>0.0</td>\n",
       "      <td>13.453937</td>\n",
       "      <td>0.028625</td>\n",
       "      <td>10.259170</td>\n",
       "      <td>0.649262</td>\n",
       "      <td>0.008362</td>\n",
       "    </tr>\n",
       "    <tr>\n",
       "      <th>q.999-err%</th>\n",
       "      <td>0.0</td>\n",
       "      <td>6.135847</td>\n",
       "      <td>0.406182</td>\n",
       "      <td>36.221437</td>\n",
       "      <td>0.518582</td>\n",
       "      <td>0.001626</td>\n",
       "    </tr>\n",
       "    <tr>\n",
       "      <th>q.9999-err%</th>\n",
       "      <td>0.0</td>\n",
       "      <td>23.153663</td>\n",
       "      <td>1.933290</td>\n",
       "      <td>148.999933</td>\n",
       "      <td>0.599358</td>\n",
       "      <td>0.670228</td>\n",
       "    </tr>\n",
       "    <tr>\n",
       "      <th>q.99999-err%</th>\n",
       "      <td>0.0</td>\n",
       "      <td>355.292505</td>\n",
       "      <td>2.223615</td>\n",
       "      <td>2559.293516</td>\n",
       "      <td>0.300689</td>\n",
       "      <td>0.570496</td>\n",
       "    </tr>\n",
       "    <tr>\n",
       "      <th>q1-err%</th>\n",
       "      <td>0.0</td>\n",
       "      <td>98.874676</td>\n",
       "      <td>0.346616</td>\n",
       "      <td>0.000000</td>\n",
       "      <td>0.000000</td>\n",
       "      <td>0.408783</td>\n",
       "    </tr>\n",
       "  </tbody>\n",
       "</table>\n",
       "</div>"
      ],
      "text/plain": [
       "              exact         prom       hdr      tdigest        dd  circllhist\n",
       "q0-err%         0.0   100.000000  0.407402     0.000000  0.000000    2.110056\n",
       "q.25-err%       0.0  1706.372011  0.231939     0.140798  0.238030    0.061839\n",
       "q.5-err%        0.0  1523.355617  0.011662     0.068886  0.243487    0.028913\n",
       "q.75-err%       0.0   857.929298  0.053769     0.101305  0.956693    0.015705\n",
       "q.9-err%        0.0   296.620225  0.688624     0.341869  0.545530    0.008642\n",
       "q.95-err%       0.0    95.263028  0.632368     0.812855  0.277072    0.004238\n",
       "q.99-err%       0.0   133.561461  0.146221     4.152054  0.086799    0.059006\n",
       "q.995-err%      0.0    13.453937  0.028625    10.259170  0.649262    0.008362\n",
       "q.999-err%      0.0     6.135847  0.406182    36.221437  0.518582    0.001626\n",
       "q.9999-err%     0.0    23.153663  1.933290   148.999933  0.599358    0.670228\n",
       "q.99999-err%    0.0   355.292505  2.223615  2559.293516  0.300689    0.570496\n",
       "q1-err%         0.0    98.874676  0.346616     0.000000  0.000000    0.408783"
      ]
     },
     "execution_count": 48,
     "metadata": {},
     "output_type": "execute_result"
    }
   ],
   "source": [
    "df"
   ]
  },
  {
   "cell_type": "code",
   "execution_count": null,
   "metadata": {},
   "outputs": [],
   "source": []
  }
 ],
 "metadata": {
  "kernelspec": {
   "display_name": "Python 3",
   "language": "python",
   "name": "python3"
  },
  "language_info": {
   "codemirror_mode": {
    "name": "ipython",
    "version": 3
   },
   "file_extension": ".py",
   "mimetype": "text/x-python",
   "name": "python",
   "nbconvert_exporter": "python",
   "pygments_lexer": "ipython3",
   "version": "3.7.3"
  }
 },
 "nbformat": 4,
 "nbformat_minor": 4
}
