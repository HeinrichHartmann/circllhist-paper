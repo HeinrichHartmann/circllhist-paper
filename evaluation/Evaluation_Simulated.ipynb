{
 "cells": [
  {
   "cell_type": "code",
   "execution_count": 1,
   "metadata": {},
   "outputs": [],
   "source": [
    "%run preamble.py\n",
    "%matplotlib inline\n",
    "\n",
    "!mkdir -p images tables results\n",
    "\n",
    "from IPython.display import HTML"
   ]
  },
  {
   "cell_type": "code",
   "execution_count": 2,
   "metadata": {},
   "outputs": [],
   "source": [
    "#\n",
    "# Simulated Data\n",
    "#\n",
    "DS_NAME =\"Simulated Latencies\"\n",
    "\n",
    "N = 1000\n",
    "batches_sim = [0]*N\n",
    "for i in range(N):\n",
    "    batch_size = np.random.geometric(.001)\n",
    "    batches_sim[i] = [0] * batch_size\n",
    "    for j in range(batch_size):\n",
    "        a = np.random.uniform(.5, 5)\n",
    "        s = np.random.exponential(0.1)\n",
    "        x = np.random.exponential(0.01)\n",
    "        batches_sim[i][j] = x + s*np.random.pareto(a)       \n",
    "\n",
    "DS_DATA = batches_sim\n",
    "DS_QUANTILES = [0, .25, 0.5, 0.75, .9, .95, .99, .995, .999, .9999, .99999, 1 ]"
   ]
  },
  {
   "cell_type": "code",
   "execution_count": 3,
   "metadata": {},
   "outputs": [
    {
     "data": {
      "image/png": "[encoded data removed]",
      "text/plain": [
       "<Figure size 1440x360 with 1 Axes>"
      ]
     },
     "metadata": {
      "needs_background": "light"
     },
     "output_type": "display_data"
    }
   ],
   "source": [
    "total = np.concatenate(DS_DATA)\n",
    "ax = log_plot(total, [], xmin=1e-5)\n",
    "plt.savefig(\"images/\" + DS_NAME + \"_distribution\")"
   ]
  },
  {
   "cell_type": "code",
   "execution_count": 4,
   "metadata": {},
   "outputs": [
    {
     "name": "stdout",
     "output_type": "stream",
     "text": [
      "# exact\n",
      "Insert ........................................................................................................................................................................................................................................................................................................................................................................................................................................................................................................................................................................................................................................................................................................................................................................................................................................................................................................................................................................................................................................\n",
      "Merge ...\n",
      "Quantiles ...\n",
      "# tdigest\n",
      "Insert ........................................................................................................................................................................................................................................................................................................................................................................................................................................................................................................................................................................................................................................................................................................................................................................................................................................................................................................................................................................................................................................\n",
      "Merge ...\n",
      "Quantiles ...\n",
      "# hdr\n",
      "Insert ........................................................................................................................................................................................................................................................................................................................................................................................................................................................................................................................................................................................................................................................................................................................................................................................................................................................................................................................................................................................................................................\n",
      "Merge ...\n",
      "Quantiles ...\n",
      "# dd\n",
      "Insert ........................................................................................................................................................................................................................................................................................................................................................................................................................................................................................................................................................................................................................................................................................................................................................................................................................................................................................................................................................................................................................................\n",
      "Merge ...\n",
      "Quantiles ...\n",
      "# circllhist\n",
      "Insert ........................................................................................................................................................................................................................................................................................................................................................................................................................................................................................................................................................................................................................................................................................................................................................................................................................................................................................................................................................................................................................................\n",
      "Merge ...\n",
      "Quantiles ...\n"
     ]
    }
   ],
   "source": [
    "STATS = evaluate_all(DS_DATA, DS_QUANTILES)"
   ]
  },
  {
   "cell_type": "code",
   "execution_count": 5,
   "metadata": {},
   "outputs": [],
   "source": [
    "save(json.dumps(STATS), \"results/\" + DS_NAME + \".json\")"
   ]
  },
  {
   "cell_type": "code",
   "execution_count": 6,
   "metadata": {},
   "outputs": [
    {
     "data": {
      "text/plain": [
       "<matplotlib.axes._subplots.AxesSubplot at 0x7f7eb3df09e8>"
      ]
     },
     "execution_count": 6,
     "metadata": {},
     "output_type": "execute_result"
    },
    {
     "data": {
      "image/png": "[encoded data removed]",
      "text/plain": [
       "<Figure size 1440x360 with 1 Axes>"
      ]
     },
     "metadata": {
      "needs_background": "light"
     },
     "output_type": "display_data"
    }
   ],
   "source": [
    "log_plot(total, [STATS[\"exact\"][\"quantiles\"][q] for q in DS_QUANTILES ], xmin=1e-5)\n",
    "# plt.savefig(\"images/\" + DS_NAME + \"_distribution_percentiles\")"
   ]
  },
  {
   "cell_type": "code",
   "execution_count": 7,
   "metadata": {},
   "outputs": [
    {
     "data": {
      "image/png": "[encoded data removed]",
      "text/plain": [
       "<Figure size 720x288 with 1 Axes>"
      ]
     },
     "metadata": {
      "needs_background": "light"
     },
     "output_type": "display_data"
    }
   ],
   "source": [
    "#\n",
    "# Stats: Quantiles\n",
    "#\n",
    "df = stats_quantiles(STATS)[METHODS]\n",
    "\n",
    "save(df.to_latex(), \"tables/\" + DS_NAME + \"_quantiles.tex\")\n",
    "\n",
    "plt.figure(figsize=(10,4))\n",
    "plt.title(DS_NAME + \"Quantile Functions\")\n",
    "for name in METHODS:\n",
    "    plt.plot(DS_QUANTILES, [ STATS[name][\"quantiles\"][q] for q in DS_QUANTILES ] ,\".-\")\n",
    "\n",
    "plt.legend(METHODS)\n",
    "plt.yscale(\"log\")\n",
    "plt.savefig(\"images/\" + DS_NAME + \"_quantile_comparison\")"
   ]
  },
  {
   "cell_type": "code",
   "execution_count": 8,
   "metadata": {},
   "outputs": [
    {
     "data": {
      "text/html": [
       "<div>\n",
       "<style scoped>\n",
       "    .dataframe tbody tr th:only-of-type {\n",
       "        vertical-align: middle;\n",
       "    }\n",
       "\n",
       "    .dataframe tbody tr th {\n",
       "        vertical-align: top;\n",
       "    }\n",
       "\n",
       "    .dataframe thead th {\n",
       "        text-align: right;\n",
       "    }\n",
       "</style>\n",
       "<table border=\"1\" class=\"dataframe\">\n",
       "  <thead>\n",
       "    <tr style=\"text-align: right;\">\n",
       "      <th></th>\n",
       "      <th>exact</th>\n",
       "      <th>tdigest</th>\n",
       "      <th>hdr</th>\n",
       "      <th>dd</th>\n",
       "      <th>circllhist</th>\n",
       "    </tr>\n",
       "  </thead>\n",
       "  <tbody>\n",
       "    <tr>\n",
       "      <th>q0</th>\n",
       "      <td>1.807292e-05</td>\n",
       "      <td>1.807292e-05</td>\n",
       "      <td>0.000000e+00</td>\n",
       "      <td>1.807292e-05</td>\n",
       "      <td>1.850000e-05</td>\n",
       "    </tr>\n",
       "    <tr>\n",
       "      <th>q.25</th>\n",
       "      <td>1.423165e-02</td>\n",
       "      <td>1.423191e-02</td>\n",
       "      <td>1.400000e-02</td>\n",
       "      <td>1.426150e-02</td>\n",
       "      <td>1.423512e-02</td>\n",
       "    </tr>\n",
       "    <tr>\n",
       "      <th>q.5</th>\n",
       "      <td>3.174789e-02</td>\n",
       "      <td>3.176279e-02</td>\n",
       "      <td>3.100000e-02</td>\n",
       "      <td>3.174040e-02</td>\n",
       "      <td>3.175103e-02</td>\n",
       "    </tr>\n",
       "    <tr>\n",
       "      <th>q.75</th>\n",
       "      <td>8.082383e-02</td>\n",
       "      <td>8.096335e-02</td>\n",
       "      <td>8.000000e-02</td>\n",
       "      <td>8.125738e-02</td>\n",
       "      <td>8.083827e-02</td>\n",
       "    </tr>\n",
       "    <tr>\n",
       "      <th>q.9</th>\n",
       "      <td>2.346021e-01</td>\n",
       "      <td>2.354149e-01</td>\n",
       "      <td>2.340000e-01</td>\n",
       "      <td>2.345472e-01</td>\n",
       "      <td>2.348875e-01</td>\n",
       "    </tr>\n",
       "    <tr>\n",
       "      <th>q.95</th>\n",
       "      <td>5.059976e-01</td>\n",
       "      <td>5.105531e-01</td>\n",
       "      <td>5.060000e-01</td>\n",
       "      <td>5.015395e-01</td>\n",
       "      <td>5.060201e-01</td>\n",
       "    </tr>\n",
       "    <tr>\n",
       "      <th>q.99</th>\n",
       "      <td>3.393659e+00</td>\n",
       "      <td>3.468524e+00</td>\n",
       "      <td>3.395000e+00</td>\n",
       "      <td>3.421199e+00</td>\n",
       "      <td>3.394275e+00</td>\n",
       "    </tr>\n",
       "    <tr>\n",
       "      <th>q.995</th>\n",
       "      <td>8.423584e+00</td>\n",
       "      <td>9.404512e+00</td>\n",
       "      <td>8.431000e+00</td>\n",
       "      <td>8.415044e+00</td>\n",
       "      <td>8.420408e+00</td>\n",
       "    </tr>\n",
       "    <tr>\n",
       "      <th>q.999</th>\n",
       "      <td>8.640747e+01</td>\n",
       "      <td>1.072208e+02</td>\n",
       "      <td>8.659100e+01</td>\n",
       "      <td>8.563536e+01</td>\n",
       "      <td>8.645455e+01</td>\n",
       "    </tr>\n",
       "    <tr>\n",
       "      <th>q.9999</th>\n",
       "      <td>2.929415e+03</td>\n",
       "      <td>1.195355e+04</td>\n",
       "      <td>2.930687e+03</td>\n",
       "      <td>2.951936e+03</td>\n",
       "      <td>2.933333e+03</td>\n",
       "    </tr>\n",
       "    <tr>\n",
       "      <th>q.99999</th>\n",
       "      <td>9.919436e+04</td>\n",
       "      <td>2.174855e+06</td>\n",
       "      <td>1.201930e+05</td>\n",
       "      <td>9.974116e+04</td>\n",
       "      <td>9.950000e+04</td>\n",
       "    </tr>\n",
       "    <tr>\n",
       "      <th>q1</th>\n",
       "      <td>1.270088e+07</td>\n",
       "      <td>1.270088e+07</td>\n",
       "      <td>1.270874e+07</td>\n",
       "      <td>1.270088e+07</td>\n",
       "      <td>1.250000e+07</td>\n",
       "    </tr>\n",
       "  </tbody>\n",
       "</table>\n",
       "</div>"
      ],
      "text/plain": [
       "                exact       tdigest           hdr            dd    circllhist\n",
       "q0       1.807292e-05  1.807292e-05  0.000000e+00  1.807292e-05  1.850000e-05\n",
       "q.25     1.423165e-02  1.423191e-02  1.400000e-02  1.426150e-02  1.423512e-02\n",
       "q.5      3.174789e-02  3.176279e-02  3.100000e-02  3.174040e-02  3.175103e-02\n",
       "q.75     8.082383e-02  8.096335e-02  8.000000e-02  8.125738e-02  8.083827e-02\n",
       "q.9      2.346021e-01  2.354149e-01  2.340000e-01  2.345472e-01  2.348875e-01\n",
       "q.95     5.059976e-01  5.105531e-01  5.060000e-01  5.015395e-01  5.060201e-01\n",
       "q.99     3.393659e+00  3.468524e+00  3.395000e+00  3.421199e+00  3.394275e+00\n",
       "q.995    8.423584e+00  9.404512e+00  8.431000e+00  8.415044e+00  8.420408e+00\n",
       "q.999    8.640747e+01  1.072208e+02  8.659100e+01  8.563536e+01  8.645455e+01\n",
       "q.9999   2.929415e+03  1.195355e+04  2.930687e+03  2.951936e+03  2.933333e+03\n",
       "q.99999  9.919436e+04  2.174855e+06  1.201930e+05  9.974116e+04  9.950000e+04\n",
       "q1       1.270088e+07  1.270088e+07  1.270874e+07  1.270088e+07  1.250000e+07"
      ]
     },
     "execution_count": 8,
     "metadata": {},
     "output_type": "execute_result"
    }
   ],
   "source": [
    "df"
   ]
  },
  {
   "cell_type": "code",
   "execution_count": 9,
   "metadata": {},
   "outputs": [
    {
     "data": {
      "image/png": "[encoded data removed]",
      "text/plain": [
       "<Figure size 240x288 with 1 Axes>"
      ]
     },
     "metadata": {
      "needs_background": "light"
     },
     "output_type": "display_data"
    }
   ],
   "source": [
    "#\n",
    "# Stats: Size\n",
    "#\n",
    "df = stats_size(STATS)[METHODS]\n",
    "\n",
    "save(df.to_latex(), \"tables/\" + DS_NAME + \"_size.tex\")\n",
    "\n",
    "fig = plt.figure(figsize=(10/3,4))\n",
    "ax = plt.subplot(1,1,1)\n",
    "df.plot(kind=\"bar\", ax=ax)\n",
    "plt.yscale(\"log\")\n",
    "plt.ylabel(\"bytes\")\n",
    "plt.title(DS_NAME + \" / Size Comparison\")\n",
    "plt.savefig(\"images/\" + DS_NAME + \"_size\")"
   ]
  },
  {
   "cell_type": "code",
   "execution_count": 10,
   "metadata": {},
   "outputs": [
    {
     "data": {
      "text/html": [
       "<div>\n",
       "<style scoped>\n",
       "    .dataframe tbody tr th:only-of-type {\n",
       "        vertical-align: middle;\n",
       "    }\n",
       "\n",
       "    .dataframe tbody tr th {\n",
       "        vertical-align: top;\n",
       "    }\n",
       "\n",
       "    .dataframe thead th {\n",
       "        text-align: right;\n",
       "    }\n",
       "</style>\n",
       "<table border=\"1\" class=\"dataframe\">\n",
       "  <thead>\n",
       "    <tr style=\"text-align: right;\">\n",
       "      <th></th>\n",
       "      <th>exact</th>\n",
       "      <th>tdigest</th>\n",
       "      <th>hdr</th>\n",
       "      <th>dd</th>\n",
       "      <th>circllhist</th>\n",
       "    </tr>\n",
       "  </thead>\n",
       "  <tbody>\n",
       "    <tr>\n",
       "      <th>bsize</th>\n",
       "      <td>8216545</td>\n",
       "      <td>2144</td>\n",
       "      <td>5550.0</td>\n",
       "      <td>3324</td>\n",
       "      <td>3381.0</td>\n",
       "    </tr>\n",
       "  </tbody>\n",
       "</table>\n",
       "</div>"
      ],
      "text/plain": [
       "         exact  tdigest     hdr    dd  circllhist\n",
       "bsize  8216545     2144  5550.0  3324      3381.0"
      ]
     },
     "execution_count": 10,
     "metadata": {},
     "output_type": "execute_result"
    }
   ],
   "source": [
    "df"
   ]
  },
  {
   "cell_type": "code",
   "execution_count": 11,
   "metadata": {},
   "outputs": [
    {
     "data": {
      "image/png": "[encoded data removed]",
      "text/plain": [
       "<Figure size 720x288 with 1 Axes>"
      ]
     },
     "metadata": {
      "needs_background": "light"
     },
     "output_type": "display_data"
    }
   ],
   "source": [
    "#\n",
    "# Stast: Timing\n",
    "#\n",
    "df = stats_timing(STATS)[METHODS]\n",
    "\n",
    "save(df.to_latex(), \"tables/\" + DS_NAME + \"_perf.tex\")\n",
    "\n",
    "fig = plt.figure(figsize=(10, 4))\n",
    "ax = plt.subplot(1,1,1)\n",
    "df.plot(kind=\"bar\", ax=ax)\n",
    "plt.yscale(\"log\")\n",
    "plt.ylabel(\"seconds\")\n",
    "plt.title(DS_NAME + \" / Performance Comparison\")\n",
    "plt.savefig(\"images/\" + DS_NAME + \"_perf\")"
   ]
  },
  {
   "cell_type": "code",
   "execution_count": 12,
   "metadata": {},
   "outputs": [
    {
     "data": {
      "text/html": [
       "<div>\n",
       "<style scoped>\n",
       "    .dataframe tbody tr th:only-of-type {\n",
       "        vertical-align: middle;\n",
       "    }\n",
       "\n",
       "    .dataframe tbody tr th {\n",
       "        vertical-align: top;\n",
       "    }\n",
       "\n",
       "    .dataframe thead th {\n",
       "        text-align: right;\n",
       "    }\n",
       "</style>\n",
       "<table border=\"1\" class=\"dataframe\">\n",
       "  <thead>\n",
       "    <tr style=\"text-align: right;\">\n",
       "      <th></th>\n",
       "      <th>exact</th>\n",
       "      <th>tdigest</th>\n",
       "      <th>hdr</th>\n",
       "      <th>dd</th>\n",
       "      <th>circllhist</th>\n",
       "    </tr>\n",
       "  </thead>\n",
       "  <tbody>\n",
       "    <tr>\n",
       "      <th>insert</th>\n",
       "      <td>0.140707</td>\n",
       "      <td>2.035045</td>\n",
       "      <td>3.439048</td>\n",
       "      <td>2.816022</td>\n",
       "      <td>1.245044</td>\n",
       "    </tr>\n",
       "    <tr>\n",
       "      <th>merge</th>\n",
       "      <td>0.604820</td>\n",
       "      <td>0.028138</td>\n",
       "      <td>0.127971</td>\n",
       "      <td>0.184135</td>\n",
       "      <td>0.031901</td>\n",
       "    </tr>\n",
       "    <tr>\n",
       "      <th>quantiles</th>\n",
       "      <td>0.178599</td>\n",
       "      <td>0.000013</td>\n",
       "      <td>0.030382</td>\n",
       "      <td>0.000654</td>\n",
       "      <td>0.000109</td>\n",
       "    </tr>\n",
       "  </tbody>\n",
       "</table>\n",
       "</div>"
      ],
      "text/plain": [
       "              exact   tdigest       hdr        dd  circllhist\n",
       "insert     0.140707  2.035045  3.439048  2.816022    1.245044\n",
       "merge      0.604820  0.028138  0.127971  0.184135    0.031901\n",
       "quantiles  0.178599  0.000013  0.030382  0.000654    0.000109"
      ]
     },
     "execution_count": 12,
     "metadata": {},
     "output_type": "execute_result"
    }
   ],
   "source": [
    "df"
   ]
  },
  {
   "cell_type": "code",
   "execution_count": 13,
   "metadata": {},
   "outputs": [
    {
     "data": {
      "image/png": "[encoded data removed]",
      "text/plain": [
       "<Figure size 1080x288 with 1 Axes>"
      ]
     },
     "metadata": {
      "needs_background": "light"
     },
     "output_type": "display_data"
    }
   ],
   "source": [
    "#\n",
    "# Stats: Accuracy\n",
    "#\n",
    "df = stats_qerr(STATS)[METHODS]\n",
    "\n",
    "save(df.to_latex(), \"tables/\" + DS_NAME + \"_accuracy.tex\")\n",
    "\n",
    "fig = plt.figure(figsize=(15, 4))\n",
    "ax = plt.subplot(1,1,1)\n",
    "df.plot(kind=\"bar\", ax=ax)\n",
    "\n",
    "plt.yscale(\"linear\")\n",
    "plt.ylabel(\"err-%\")\n",
    "plt.ylim(0, 10)\n",
    "plt.title(DS_NAME + \" / Accuracy Comparison\")\n",
    "plt.savefig(\"images/\" + DS_NAME + \"_accuracy\")"
   ]
  },
  {
   "cell_type": "code",
   "execution_count": 14,
   "metadata": {},
   "outputs": [
    {
     "data": {
      "text/html": [
       "<div>\n",
       "<style scoped>\n",
       "    .dataframe tbody tr th:only-of-type {\n",
       "        vertical-align: middle;\n",
       "    }\n",
       "\n",
       "    .dataframe tbody tr th {\n",
       "        vertical-align: top;\n",
       "    }\n",
       "\n",
       "    .dataframe thead th {\n",
       "        text-align: right;\n",
       "    }\n",
       "</style>\n",
       "<table border=\"1\" class=\"dataframe\">\n",
       "  <thead>\n",
       "    <tr style=\"text-align: right;\">\n",
       "      <th></th>\n",
       "      <th>exact</th>\n",
       "      <th>tdigest</th>\n",
       "      <th>hdr</th>\n",
       "      <th>dd</th>\n",
       "      <th>circllhist</th>\n",
       "    </tr>\n",
       "  </thead>\n",
       "  <tbody>\n",
       "    <tr>\n",
       "      <th>q0-err%</th>\n",
       "      <td>0.0</td>\n",
       "      <td>0.000000</td>\n",
       "      <td>100.000000</td>\n",
       "      <td>0.000000</td>\n",
       "      <td>2.363068</td>\n",
       "    </tr>\n",
       "    <tr>\n",
       "      <th>q.25-err%</th>\n",
       "      <td>0.0</td>\n",
       "      <td>0.001796</td>\n",
       "      <td>1.627737</td>\n",
       "      <td>0.209717</td>\n",
       "      <td>0.024367</td>\n",
       "    </tr>\n",
       "    <tr>\n",
       "      <th>q.5-err%</th>\n",
       "      <td>0.0</td>\n",
       "      <td>0.046939</td>\n",
       "      <td>2.355712</td>\n",
       "      <td>0.023593</td>\n",
       "      <td>0.009900</td>\n",
       "    </tr>\n",
       "    <tr>\n",
       "      <th>q.75-err%</th>\n",
       "      <td>0.0</td>\n",
       "      <td>0.172624</td>\n",
       "      <td>1.019292</td>\n",
       "      <td>0.536408</td>\n",
       "      <td>0.017864</td>\n",
       "    </tr>\n",
       "    <tr>\n",
       "      <th>q.9-err%</th>\n",
       "      <td>0.0</td>\n",
       "      <td>0.346437</td>\n",
       "      <td>0.256665</td>\n",
       "      <td>0.023410</td>\n",
       "      <td>0.121646</td>\n",
       "    </tr>\n",
       "    <tr>\n",
       "      <th>q.95-err%</th>\n",
       "      <td>0.0</td>\n",
       "      <td>0.900305</td>\n",
       "      <td>0.000482</td>\n",
       "      <td>0.881053</td>\n",
       "      <td>0.004448</td>\n",
       "    </tr>\n",
       "    <tr>\n",
       "      <th>q.99-err%</th>\n",
       "      <td>0.0</td>\n",
       "      <td>2.206043</td>\n",
       "      <td>0.039518</td>\n",
       "      <td>0.811509</td>\n",
       "      <td>0.018149</td>\n",
       "    </tr>\n",
       "    <tr>\n",
       "      <th>q.995-err%</th>\n",
       "      <td>0.0</td>\n",
       "      <td>11.645016</td>\n",
       "      <td>0.088039</td>\n",
       "      <td>0.101387</td>\n",
       "      <td>0.037702</td>\n",
       "    </tr>\n",
       "    <tr>\n",
       "      <th>q.999-err%</th>\n",
       "      <td>0.0</td>\n",
       "      <td>24.087465</td>\n",
       "      <td>0.212398</td>\n",
       "      <td>0.893566</td>\n",
       "      <td>0.054478</td>\n",
       "    </tr>\n",
       "    <tr>\n",
       "      <th>q.9999-err%</th>\n",
       "      <td>0.0</td>\n",
       "      <td>308.052624</td>\n",
       "      <td>0.043437</td>\n",
       "      <td>0.768788</td>\n",
       "      <td>0.133774</td>\n",
       "    </tr>\n",
       "    <tr>\n",
       "      <th>q.99999-err%</th>\n",
       "      <td>0.0</td>\n",
       "      <td>2092.519140</td>\n",
       "      <td>21.169206</td>\n",
       "      <td>0.551235</td>\n",
       "      <td>0.308119</td>\n",
       "    </tr>\n",
       "    <tr>\n",
       "      <th>q1-err%</th>\n",
       "      <td>0.0</td>\n",
       "      <td>0.000000</td>\n",
       "      <td>0.061910</td>\n",
       "      <td>0.000000</td>\n",
       "      <td>1.581607</td>\n",
       "    </tr>\n",
       "  </tbody>\n",
       "</table>\n",
       "</div>"
      ],
      "text/plain": [
       "              exact      tdigest         hdr        dd  circllhist\n",
       "q0-err%         0.0     0.000000  100.000000  0.000000    2.363068\n",
       "q.25-err%       0.0     0.001796    1.627737  0.209717    0.024367\n",
       "q.5-err%        0.0     0.046939    2.355712  0.023593    0.009900\n",
       "q.75-err%       0.0     0.172624    1.019292  0.536408    0.017864\n",
       "q.9-err%        0.0     0.346437    0.256665  0.023410    0.121646\n",
       "q.95-err%       0.0     0.900305    0.000482  0.881053    0.004448\n",
       "q.99-err%       0.0     2.206043    0.039518  0.811509    0.018149\n",
       "q.995-err%      0.0    11.645016    0.088039  0.101387    0.037702\n",
       "q.999-err%      0.0    24.087465    0.212398  0.893566    0.054478\n",
       "q.9999-err%     0.0   308.052624    0.043437  0.768788    0.133774\n",
       "q.99999-err%    0.0  2092.519140   21.169206  0.551235    0.308119\n",
       "q1-err%         0.0     0.000000    0.061910  0.000000    1.581607"
      ]
     },
     "execution_count": 14,
     "metadata": {},
     "output_type": "execute_result"
    }
   ],
   "source": [
    "df"
   ]
  }
 ],
 "metadata": {
  "kernelspec": {
   "display_name": "Python 3",
   "language": "python",
   "name": "python3"
  },
  "language_info": {
   "codemirror_mode": {
    "name": "ipython",
    "version": 3
   },
   "file_extension": ".py",
   "mimetype": "text/x-python",
   "name": "python",
   "nbconvert_exporter": "python",
   "pygments_lexer": "ipython3",
   "version": "3.7.3"
  }
 },
 "nbformat": 4,
 "nbformat_minor": 4
}
