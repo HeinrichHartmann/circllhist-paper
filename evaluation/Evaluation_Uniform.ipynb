{
 "cells": [
  {
   "cell_type": "code",
   "execution_count": null,
   "metadata": {},
   "outputs": [],
   "source": [
    "%run preamble_2.py\n",
    "%matplotlib inline\n",
    "\n",
    "!mkdir -p images tables results\n",
    "\n",
    "from IPython.display import HTML"
   ]
  },
  {
   "cell_type": "code",
   "execution_count": null,
   "metadata": {},
   "outputs": [],
   "source": [
    "#\n",
    "# Uniform Baseline\n",
    "#\n",
    "DS_NAME = \"Uniform Distribution\"\n",
    "\n",
    "# 1000 batches a 100 samples\n",
    "DS_DATA = [ np.random.uniform(10, 100, size=100) for i in range(1000) ]\n",
    "\n",
    "DS_QUANTILES = np.linspace(0,1,11)"
   ]
  },
  {
   "cell_type": "code",
   "execution_count": 3,
   "metadata": {
    "scrolled": true
   },
   "outputs": [
    {
     "data": {
      "image/png": "[encoded data removed]",
      "text/plain": [
       "<Figure size 1440x360 with 1 Axes>"
      ]
     },
     "metadata": {
      "needs_background": "light"
     },
     "output_type": "display_data"
    }
   ],
   "source": [
    "total = np.concatenate(DS_DATA)\n",
    "ax = lin_plot(total, [])\n",
    "plt.savefig(\"images/\" + DS_NAME + \"_distribution\")"
   ]
  },
  {
   "cell_type": "code",
   "execution_count": 37,
   "metadata": {},
   "outputs": [],
   "source": [
    "# Run Configuration\n",
    "\n",
    "# HDR\n",
    "CLASSES[2].M = 10**8\n",
    "\n",
    "# Prom\n",
    "CLASSES[6].thresholds = np.linspace(0,100,11)\n",
    "\n",
    "METHODS_SEL = [\n",
    " 'exact',\n",
    " 'prom',\n",
    " 'hdr',\n",
    " 'tdigest',\n",
    " 'dd',\n",
    " 'circllhist/type-7',\n",
    "]\n",
    "METHODS_RENAME = { 'circllhist/type-7' : \"circllhist\" }"
   ]
  },
  {
   "cell_type": "code",
   "execution_count": 5,
   "metadata": {
    "scrolled": true
   },
   "outputs": [
    {
     "name": "stdout",
     "output_type": "stream",
     "text": [
      "# exact\n",
      "Insert ........................................................................................................................................................................................................................................................................................................................................................................................................................................................................................................................................................................................................................................................................................................................................................................................................................................................................................................................................................................................................................................\n",
      "Merge ...\n",
      "Quantiles ...\n",
      "# tdigest\n",
      "Insert ........................................................................................................................................................................................................................................................................................................................................................................................................................................................................................................................................................................................................................................................................................................................................................................................................................................................................................................................................................................................................................................\n",
      "Merge ...\n",
      "Quantiles ...\n",
      "# hdr\n",
      "Insert ........................................................................................................................................................................................................................................................................................................................................................................................................................................................................................................................................................................................................................................................................................................................................................................................................................................................................................................................................................................................................................................\n",
      "Merge ...\n",
      "Quantiles ...\n",
      "# dd\n",
      "Insert ........................................................................................................................................................................................................................................................................................................................................................................................................................................................................................................................................................................................................................................................................................................................................................................................................................................................................................................................................................................................................................................\n",
      "Merge ...\n",
      "Quantiles ...\n",
      "# circllhist/type-1\n",
      "Insert ........................................................................................................................................................................................................................................................................................................................................................................................................................................................................................................................................................................................................................................................................................................................................................................................................................................................................................................................................................................................................................................\n",
      "Merge ...\n",
      "Quantiles ...\n",
      "# circllhist/type-7\n",
      "Insert ........................................................................................................................................................................................................................................................................................................................................................................................................................................................................................................................................................................................................................................................................................................................................................................................................................................................................................................................................................................................................................................\n",
      "Merge ...\n",
      "Quantiles ...\n",
      "# prom\n",
      "Insert ........................................................................................................................................................................................................................................................................................................................................................................................................................................................................................................................................................................................................................................................................................................................................................................................................................................................................................................................................................................................................................................\n",
      "Merge ...\n",
      "Quantiles ...\n"
     ]
    }
   ],
   "source": [
    "STATS = evaluate_all(DS_DATA, DS_QUANTILES)"
   ]
  },
  {
   "cell_type": "code",
   "execution_count": 6,
   "metadata": {},
   "outputs": [],
   "source": [
    "save(json.dumps(STATS), \"results/\" + DS_NAME + \".json\")"
   ]
  },
  {
   "cell_type": "code",
   "execution_count": 7,
   "metadata": {
    "scrolled": true
   },
   "outputs": [
    {
     "data": {
      "image/png": "[encoded data removed]",
      "text/plain": [
       "<Figure size 1440x360 with 1 Axes>"
      ]
     },
     "metadata": {
      "needs_background": "light"
     },
     "output_type": "display_data"
    }
   ],
   "source": [
    "lin_plot(total, [STATS[\"exact\"][\"quantiles\"][q] for q in DS_QUANTILES ])\n",
    "plt.ylim(0,550)\n",
    "plt.title(\"Dataset '{}' with marked percentiles\".format(DS_NAME))\n",
    "plt.savefig(\"images/\" + DS_NAME + \"_distribution_percentiles\", bbox_inches=\"tight\")"
   ]
  },
  {
   "cell_type": "code",
   "execution_count": 8,
   "metadata": {},
   "outputs": [
    {
     "data": {
      "text/plain": [
       "(0, 120)"
      ]
     },
     "execution_count": 8,
     "metadata": {},
     "output_type": "execute_result"
    },
    {
     "data": {
      "image/png": "[encoded data removed]",
      "text/plain": [
       "<Figure size 720x288 with 1 Axes>"
      ]
     },
     "metadata": {
      "needs_background": "light"
     },
     "output_type": "display_data"
    }
   ],
   "source": [
    "#\n",
    "# Stats: Quantiles\n",
    "#\n",
    "df = stats_quantiles(STATS)[METHODS_SEL]\n",
    "\n",
    "# save(df.to_latex(), \"tables/\" + DS_NAME + \"_quantiles.tex\")\n",
    "\n",
    "plt.figure(figsize=(10,4))\n",
    "plt.title(DS_NAME + \"Quantile Functions\")\n",
    "for name in METHODS_SEL:\n",
    "    plt.plot(DS_QUANTILES, [ STATS[name][\"quantiles\"][q] for q in DS_QUANTILES ] ,\".-\")\n",
    "\n",
    "plt.legend(METHODS)\n",
    "plt.ylim(0, 120)\n",
    "# plt.savefig(\"images/\" + DS_NAME + \"_quantile_comparison\")"
   ]
  },
  {
   "cell_type": "code",
   "execution_count": 9,
   "metadata": {},
   "outputs": [
    {
     "data": {
      "text/html": [
       "<div>\n",
       "<style scoped>\n",
       "    .dataframe tbody tr th:only-of-type {\n",
       "        vertical-align: middle;\n",
       "    }\n",
       "\n",
       "    .dataframe tbody tr th {\n",
       "        vertical-align: top;\n",
       "    }\n",
       "\n",
       "    .dataframe thead th {\n",
       "        text-align: right;\n",
       "    }\n",
       "</style>\n",
       "<table border=\"1\" class=\"dataframe\">\n",
       "  <thead>\n",
       "    <tr style=\"text-align: right;\">\n",
       "      <th></th>\n",
       "      <th>exact</th>\n",
       "      <th>prom</th>\n",
       "      <th>hdr</th>\n",
       "      <th>tdigest</th>\n",
       "      <th>dd</th>\n",
       "      <th>circllhist/type-7</th>\n",
       "    </tr>\n",
       "  </thead>\n",
       "  <tbody>\n",
       "    <tr>\n",
       "      <th>q0</th>\n",
       "      <td>10.001426</td>\n",
       "      <td>10.000000</td>\n",
       "      <td>9.998172</td>\n",
       "      <td>10.001426</td>\n",
       "      <td>10.001426</td>\n",
       "      <td>10.000966</td>\n",
       "    </tr>\n",
       "    <tr>\n",
       "      <th>q.1</th>\n",
       "      <td>19.172407</td>\n",
       "      <td>19.107468</td>\n",
       "      <td>19.178455</td>\n",
       "      <td>19.147680</td>\n",
       "      <td>19.106877</td>\n",
       "      <td>19.141732</td>\n",
       "    </tr>\n",
       "    <tr>\n",
       "      <th>q.2</th>\n",
       "      <td>28.296334</td>\n",
       "      <td>28.291203</td>\n",
       "      <td>28.311552</td>\n",
       "      <td>28.292682</td>\n",
       "      <td>28.504491</td>\n",
       "      <td>28.276699</td>\n",
       "    </tr>\n",
       "    <tr>\n",
       "      <th>q.3</th>\n",
       "      <td>37.264394</td>\n",
       "      <td>37.266804</td>\n",
       "      <td>37.266391</td>\n",
       "      <td>37.251144</td>\n",
       "      <td>36.968653</td>\n",
       "      <td>37.273345</td>\n",
       "    </tr>\n",
       "    <tr>\n",
       "      <th>q.4</th>\n",
       "      <td>46.248122</td>\n",
       "      <td>46.282144</td>\n",
       "      <td>46.263173</td>\n",
       "      <td>46.246683</td>\n",
       "      <td>46.066116</td>\n",
       "      <td>46.270463</td>\n",
       "    </tr>\n",
       "    <tr>\n",
       "      <th>q.5</th>\n",
       "      <td>55.270736</td>\n",
       "      <td>55.270500</td>\n",
       "      <td>55.280927</td>\n",
       "      <td>55.293095</td>\n",
       "      <td>55.151485</td>\n",
       "      <td>55.274802</td>\n",
       "    </tr>\n",
       "    <tr>\n",
       "      <th>q.6</th>\n",
       "      <td>64.124528</td>\n",
       "      <td>64.184580</td>\n",
       "      <td>64.130908</td>\n",
       "      <td>64.120569</td>\n",
       "      <td>64.721212</td>\n",
       "      <td>64.133929</td>\n",
       "    </tr>\n",
       "    <tr>\n",
       "      <th>q.7</th>\n",
       "      <td>73.009708</td>\n",
       "      <td>73.086343</td>\n",
       "      <td>73.022833</td>\n",
       "      <td>73.019040</td>\n",
       "      <td>72.973255</td>\n",
       "      <td>73.009778</td>\n",
       "    </tr>\n",
       "    <tr>\n",
       "      <th>q.8</th>\n",
       "      <td>82.025324</td>\n",
       "      <td>82.028298</td>\n",
       "      <td>82.040586</td>\n",
       "      <td>82.024103</td>\n",
       "      <td>82.277445</td>\n",
       "      <td>82.032698</td>\n",
       "    </tr>\n",
       "    <tr>\n",
       "      <th>q.9</th>\n",
       "      <td>91.004775</td>\n",
       "      <td>90.989367</td>\n",
       "      <td>91.016397</td>\n",
       "      <td>90.998935</td>\n",
       "      <td>90.930942</td>\n",
       "      <td>91.005055</td>\n",
       "    </tr>\n",
       "    <tr>\n",
       "      <th>q1</th>\n",
       "      <td>99.999908</td>\n",
       "      <td>100.000000</td>\n",
       "      <td>100.076093</td>\n",
       "      <td>99.999908</td>\n",
       "      <td>99.999908</td>\n",
       "      <td>99.999049</td>\n",
       "    </tr>\n",
       "  </tbody>\n",
       "</table>\n",
       "</div>"
      ],
      "text/plain": [
       "         exact        prom         hdr    tdigest         dd  \\\n",
       "q0   10.001426   10.000000    9.998172  10.001426  10.001426   \n",
       "q.1  19.172407   19.107468   19.178455  19.147680  19.106877   \n",
       "q.2  28.296334   28.291203   28.311552  28.292682  28.504491   \n",
       "q.3  37.264394   37.266804   37.266391  37.251144  36.968653   \n",
       "q.4  46.248122   46.282144   46.263173  46.246683  46.066116   \n",
       "q.5  55.270736   55.270500   55.280927  55.293095  55.151485   \n",
       "q.6  64.124528   64.184580   64.130908  64.120569  64.721212   \n",
       "q.7  73.009708   73.086343   73.022833  73.019040  72.973255   \n",
       "q.8  82.025324   82.028298   82.040586  82.024103  82.277445   \n",
       "q.9  91.004775   90.989367   91.016397  90.998935  90.930942   \n",
       "q1   99.999908  100.000000  100.076093  99.999908  99.999908   \n",
       "\n",
       "     circllhist/type-7  \n",
       "q0           10.000966  \n",
       "q.1          19.141732  \n",
       "q.2          28.276699  \n",
       "q.3          37.273345  \n",
       "q.4          46.270463  \n",
       "q.5          55.274802  \n",
       "q.6          64.133929  \n",
       "q.7          73.009778  \n",
       "q.8          82.032698  \n",
       "q.9          91.005055  \n",
       "q1           99.999049  "
      ]
     },
     "execution_count": 9,
     "metadata": {},
     "output_type": "execute_result"
    }
   ],
   "source": [
    "df"
   ]
  },
  {
   "cell_type": "code",
   "execution_count": 10,
   "metadata": {},
   "outputs": [
    {
     "data": {
      "image/png": "[encoded data removed]",
      "text/plain": [
       "<Figure size 240x360 with 1 Axes>"
      ]
     },
     "metadata": {
      "needs_background": "light"
     },
     "output_type": "display_data"
    }
   ],
   "source": [
    "#\n",
    "# Stats: Size\n",
    "#\n",
    "df = stats_size(STATS)[METHODS_SEL].rename({\"bsize\" : DS_NAME }).rename({ \"circllhist/type-7\" : \"circllhist\" }, axis=1)\n",
    "\n",
    "save(df.to_latex(), \"tables/\" + DS_NAME + \"_size.tex\")\n",
    "\n",
    "fig = plt.figure(figsize=(10/3,5))\n",
    "ax = plt.subplot(1,1,1)\n",
    "df.plot(kind=\"bar\", ax=ax)\n",
    "# plt.title(DS_NAME + \" / Size Comparison\")\n",
    "plt.title(\"\")\n",
    "plt.yscale(\"log\")\n",
    "plt.ylabel(\"bytes\")\n",
    "plt.xticks(rotation=0)\n",
    "plt.ylim(1, 10**8)\n",
    "plt.savefig(\"images/\" + DS_NAME + \"_size\", bbox_inches = \"tight\")"
   ]
  },
  {
   "cell_type": "code",
   "execution_count": 11,
   "metadata": {},
   "outputs": [
    {
     "data": {
      "text/html": [
       "<div>\n",
       "<style scoped>\n",
       "    .dataframe tbody tr th:only-of-type {\n",
       "        vertical-align: middle;\n",
       "    }\n",
       "\n",
       "    .dataframe tbody tr th {\n",
       "        vertical-align: top;\n",
       "    }\n",
       "\n",
       "    .dataframe thead th {\n",
       "        text-align: right;\n",
       "    }\n",
       "</style>\n",
       "<table border=\"1\" class=\"dataframe\">\n",
       "  <thead>\n",
       "    <tr style=\"text-align: right;\">\n",
       "      <th></th>\n",
       "      <th>exact</th>\n",
       "      <th>prom</th>\n",
       "      <th>hdr</th>\n",
       "      <th>tdigest</th>\n",
       "      <th>dd</th>\n",
       "      <th>circllhist</th>\n",
       "    </tr>\n",
       "  </thead>\n",
       "  <tbody>\n",
       "    <tr>\n",
       "      <th>Uniform Distribution</th>\n",
       "      <td>800000</td>\n",
       "      <td>96</td>\n",
       "      <td>2652.0</td>\n",
       "      <td>2224</td>\n",
       "      <td>716</td>\n",
       "      <td>453.0</td>\n",
       "    </tr>\n",
       "  </tbody>\n",
       "</table>\n",
       "</div>"
      ],
      "text/plain": [
       "                       exact  prom     hdr  tdigest   dd  circllhist\n",
       "Uniform Distribution  800000    96  2652.0     2224  716       453.0"
      ]
     },
     "execution_count": 11,
     "metadata": {},
     "output_type": "execute_result"
    }
   ],
   "source": [
    "df"
   ]
  },
  {
   "cell_type": "code",
   "execution_count": 53,
   "metadata": {},
   "outputs": [
    {
     "data": {
      "image/png": "[encoded data removed]",
      "text/plain": [
       "<Figure size 1080x288 with 1 Axes>"
      ]
     },
     "metadata": {
      "needs_background": "light"
     },
     "output_type": "display_data"
    }
   ],
   "source": [
    "#\n",
    "# Stast: Timing\n",
    "#\n",
    "df = stats_timing(STATS)[METHODS_SEL].rename({ \"circllhist/type-7\" : \"circllhist\" }, axis=1)\n",
    "\n",
    "df.rename({ \"insert\" : \"Insertion\" , \"merge\" : \"Merge\", \"quantiles\" : \"Quantile Computation\" },inplace=True)\n",
    "\n",
    "# table in usec\n",
    "(df*10**6).to_latex(\"tables/\" + DS_NAME + \"_perf.tex\", float_format = \"%.1f\")\n",
    "\n",
    "fig = plt.figure(figsize=(15, 4))\n",
    "ax = plt.subplot(1,1,1)\n",
    "df.plot(kind=\"bar\", ax=ax)\n",
    "plt.yscale(\"log\")\n",
    "plt.ylim(1e-9, 1e0)\n",
    "plt.yticks([10**-9, 10**-6, 10**-3, 10**-0])\n",
    "plt.ylabel(\"seconds\")\n",
    "plt.title(\"Performance Comparison on '{}' Dataset\".format(DS_NAME))\n",
    "plt.xticks(rotation=0)\n",
    "plt.savefig(\"images/\" + DS_NAME + \"_perf\", bbox_inches = \"tight\")"
   ]
  },
  {
   "cell_type": "code",
   "execution_count": 13,
   "metadata": {},
   "outputs": [
    {
     "data": {
      "text/html": [
       "<div>\n",
       "<style scoped>\n",
       "    .dataframe tbody tr th:only-of-type {\n",
       "        vertical-align: middle;\n",
       "    }\n",
       "\n",
       "    .dataframe tbody tr th {\n",
       "        vertical-align: top;\n",
       "    }\n",
       "\n",
       "    .dataframe thead th {\n",
       "        text-align: right;\n",
       "    }\n",
       "</style>\n",
       "<table border=\"1\" class=\"dataframe\">\n",
       "  <thead>\n",
       "    <tr style=\"text-align: right;\">\n",
       "      <th></th>\n",
       "      <th>exact</th>\n",
       "      <th>prom</th>\n",
       "      <th>hdr</th>\n",
       "      <th>tdigest</th>\n",
       "      <th>dd</th>\n",
       "      <th>circllhist</th>\n",
       "    </tr>\n",
       "  </thead>\n",
       "  <tbody>\n",
       "    <tr>\n",
       "      <th>Insertion</th>\n",
       "      <td>8.537436e-07</td>\n",
       "      <td>0.000010</td>\n",
       "      <td>0.000008</td>\n",
       "      <td>0.000005</td>\n",
       "      <td>0.000004</td>\n",
       "      <td>0.000002</td>\n",
       "    </tr>\n",
       "    <tr>\n",
       "      <th>Merge</th>\n",
       "      <td>3.310061e-05</td>\n",
       "      <td>0.000001</td>\n",
       "      <td>0.000129</td>\n",
       "      <td>0.000027</td>\n",
       "      <td>0.000046</td>\n",
       "      <td>0.000006</td>\n",
       "    </tr>\n",
       "    <tr>\n",
       "      <th>Quantile Computation</th>\n",
       "      <td>1.180344e-03</td>\n",
       "      <td>0.000011</td>\n",
       "      <td>0.009685</td>\n",
       "      <td>0.000001</td>\n",
       "      <td>0.000017</td>\n",
       "      <td>0.000004</td>\n",
       "    </tr>\n",
       "  </tbody>\n",
       "</table>\n",
       "</div>"
      ],
      "text/plain": [
       "                             exact      prom       hdr   tdigest        dd  \\\n",
       "Insertion             8.537436e-07  0.000010  0.000008  0.000005  0.000004   \n",
       "Merge                 3.310061e-05  0.000001  0.000129  0.000027  0.000046   \n",
       "Quantile Computation  1.180344e-03  0.000011  0.009685  0.000001  0.000017   \n",
       "\n",
       "                      circllhist  \n",
       "Insertion               0.000002  \n",
       "Merge                   0.000006  \n",
       "Quantile Computation    0.000004  "
      ]
     },
     "execution_count": 13,
     "metadata": {},
     "output_type": "execute_result"
    }
   ],
   "source": [
    "df"
   ]
  },
  {
   "cell_type": "code",
   "execution_count": 46,
   "metadata": {},
   "outputs": [
    {
     "data": {
      "image/png": "[encoded data removed]",
      "text/plain": [
       "<Figure size 1080x288 with 1 Axes>"
      ]
     },
     "metadata": {
      "needs_background": "light"
     },
     "output_type": "display_data"
    }
   ],
   "source": [
    "#\n",
    "# Stats: Accuracy\n",
    "#\n",
    "df = stats_qerr(STATS)[METHODS_SEL].rename({ \"circllhist/type-7\" : \"circllhist\" }, axis=1)\n",
    "\n",
    "METHODS_TBL = list(df.columns)\n",
    "METHODS_TBL.remove(\"exact\")\n",
    "df[METHODS_TBL].to_latex(\"tables/\" + DS_NAME + \"_accuracy.tex\", float_format=\"%.3f\")\n",
    "\n",
    "fig = plt.figure(figsize=(15, 4))\n",
    "ax = plt.subplot(1,1,1)\n",
    "plt.title(DS_NAME + \" / Accuracy Comparison\")\n",
    "ax.axhline(1, alpha=0.5, color=\"green\")\n",
    "ax.axhline(10, alpha=0.5, color=\"yellow\")\n",
    "ax.axhline(100, alpha=0.5, color=\"red\")\n",
    "df.plot(kind=\"bar\", ax=ax)\n",
    "plt.legend(loc=\"upper right\")\n",
    "plt.yscale(\"log\")\n",
    "plt.ylabel(\"Error %\")\n",
    "plt.ylim(1e-2, 1e3)\n",
    "plt.savefig(\"images/\" + DS_NAME + \"_accuracy\", bbox_inches=\"tight\")"
   ]
  },
  {
   "cell_type": "code",
   "execution_count": null,
   "metadata": {},
   "outputs": [],
   "source": []
  }
 ],
 "metadata": {
  "kernelspec": {
   "display_name": "Python 3",
   "language": "python",
   "name": "python3"
  },
  "language_info": {
   "codemirror_mode": {
    "name": "ipython",
    "version": 3
   },
   "file_extension": ".py",
   "mimetype": "text/x-python",
   "name": "python",
   "nbconvert_exporter": "python",
   "pygments_lexer": "ipython3",
   "version": "3.7.3"
  }
 },
 "nbformat": 4,
 "nbformat_minor": 4
}
